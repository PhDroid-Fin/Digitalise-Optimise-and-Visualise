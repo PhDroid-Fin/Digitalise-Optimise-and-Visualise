{
 "cells": [
  {
   "cell_type": "markdown",
   "metadata": {},
   "source": [
    "# Working with Data(frames)\n",
    "dov-summer school 2019, peter.gruber@usi.ch"
   ]
  },
  {
   "cell_type": "markdown",
   "metadata": {},
   "source": [
    "## Pandas Dataframes\n",
    "* Pretty much like `data.frame()` in R\n",
    "* Two-dimensional\n",
    "* Labels for columns (=variables)\n",
    "* Also labels for rows (less useful)\n",
    "* Different types *per column* possible\n",
    "* Columns are also called `axis 1` and rows `axis 2`"
   ]
  },
  {
   "cell_type": "markdown",
   "metadata": {},
   "source": [
    "### Creating a dataframe by hand"
   ]
  },
  {
   "cell_type": "code",
   "execution_count": 1,
   "metadata": {},
   "outputs": [
    {
     "name": "stdout",
     "output_type": "stream",
     "text": [
      "   Day  DOW\n",
      "0  Mon    1\n",
      "1  Tue    2\n",
      "2  Wed    3\n",
      "3  Thu    4\n",
      "4  Fri    5\n",
      "5  Sat    6\n",
      "6  Sun    7\n"
     ]
    }
   ],
   "source": [
    "import pandas as pd\n",
    "day   = ['Mon','Tue','Wed','Thu','Fri','Sat','Sun']\n",
    "dow   = list(range(1,8))                                # dow = \"day of week\"\n",
    "score = [-2,-0.1, 0.5, 1.1, 3.7, 11, 4]\n",
    "\n",
    "df = pd.DataFrame()                                     # empty\n",
    "df['Day'] = day\n",
    "df['DOW'] = dow\n",
    "\n",
    "print(df)"
   ]
  },
  {
   "cell_type": "markdown",
   "metadata": {},
   "source": [
    "### *Now do the following ...*\n",
    "* Add a `Score` column to the data frame\n",
    "* Print the first two rows\n",
    "* Print only the `Day` column\n",
    "* Print the score for Monday\n"
   ]
  },
  {
   "cell_type": "code",
   "execution_count": 40,
   "metadata": {},
   "outputs": [
    {
     "name": "stdout",
     "output_type": "stream",
     "text": [
      "   Day  DOW  Score\n",
      "0  Mon    1   -2.0\n",
      "1  Tue    2   -0.1\n",
      "2  Wed    3    0.5\n",
      "3  Thu    4    1.1\n",
      "4  Fri    5    3.7\n",
      "5  Sat    6   11.0\n",
      "6  Sun    7    4.0\n",
      "------------------------------\n",
      "   Day  DOW  Score\n",
      "0  Mon    1   -2.0\n",
      "1  Tue    2   -0.1\n",
      "------------------------------\n",
      "   Day  DOW  Score\n",
      "0  Mon    1   -2.0\n",
      "1  Tue    2   -0.1\n",
      "------------------------------\n",
      "0    Mon\n",
      "1    Tue\n",
      "2    Wed\n",
      "3    Thu\n",
      "4    Fri\n",
      "5    Sat\n",
      "6    Sun\n",
      "Name: Day, dtype: object\n",
      "------------------------------\n",
      "0    Mon\n",
      "1    Tue\n",
      "2    Wed\n",
      "3    Thu\n",
      "4    Fri\n",
      "5    Sat\n",
      "6    Sun\n",
      "Name: Day, dtype: object\n"
     ]
    }
   ],
   "source": [
    "# Python code goes here\n",
    "df['Score'] = score\n",
    "print(df)\n",
    "print('-'*30)\n",
    "\n",
    "# showing first two rows\n",
    "print(df.head(2))\n",
    "print('-'*30)\n",
    "\n",
    "print(df[0:2])\n",
    "print('-'*30)\n",
    "\n",
    "# show the Day column\n",
    "print(df['Day'])\n",
    "print('-'*30)\n",
    "\n",
    "print(df.Day)"
   ]
  },
  {
   "cell_type": "code",
   "execution_count": 46,
   "metadata": {},
   "outputs": [
    {
     "name": "stdout",
     "output_type": "stream",
     "text": [
      "----------interchange the cols easily----------\n",
      "   DOW  Day\n",
      "0    1  Mon\n",
      "1    2  Tue\n",
      "2    3  Wed\n",
      "3    4  Thu\n",
      "4    5  Fri\n",
      "5    6  Sat\n",
      "6    7  Sun\n",
      "---------------\n",
      "0   -2.0\n",
      "Name: Score, dtype: float64\n",
      "<class 'pandas.core.series.Series'>\n",
      "---------------\n",
      "0   -2.0\n",
      "Name: Score, dtype: float64\n",
      "---------------\n",
      "0   -2.0\n",
      "Name: Score, dtype: float64\n",
      "---------------\n",
      "0     True\n",
      "1    False\n",
      "2    False\n",
      "3    False\n",
      "4    False\n",
      "5    False\n",
      "6    False\n",
      "Name: Day, dtype: bool\n",
      "---------------\n",
      "-2.0\n",
      "<class 'numpy.float64'>\n"
     ]
    }
   ],
   "source": [
    "# we can even interchange the cols easily\n",
    "print('-'*10 + 'interchange the cols easily' + '-'*10)\n",
    "print(df[['DOW','Day']])\n",
    "\n",
    "print('-'*15)\n",
    "print(df[df.Day =='Mon']['Score'])\n",
    "print(type(df[df.Day =='Mon']['Score']))\n",
    "\n",
    "print('-'*15)\n",
    "print(df['Score'].loc[df.Day == 'Mon'])\n",
    "\n",
    "print('-'*15)\n",
    "print(df.Score.loc[df.Day == 'Mon'])\n",
    "\n",
    "print('-'*15)\n",
    "print(df['Day']=='Mon')\n",
    "\n",
    "print('-'*15)\n",
    "print(df['Score'][0])\n",
    "print(type(df['Score'][0]))"
   ]
  },
  {
   "cell_type": "code",
   "execution_count": null,
   "metadata": {},
   "outputs": [],
   "source": []
  },
  {
   "cell_type": "code",
   "execution_count": null,
   "metadata": {},
   "outputs": [],
   "source": []
  },
  {
   "cell_type": "code",
   "execution_count": null,
   "metadata": {},
   "outputs": [],
   "source": []
  },
  {
   "cell_type": "markdown",
   "metadata": {},
   "source": [
    "### *Searching and data manipulation*\n",
    "* Print the row for Tuesday (NOT the second row!)\n",
    "* Print the names of all days that have a negative score\n",
    "* Change the score for Monday to -3\n",
    "    ** Pay attention that `df[df.Day=='Tue']['Score'] = -3` is working on copy"
   ]
  },
  {
   "cell_type": "code",
   "execution_count": 54,
   "metadata": {},
   "outputs": [
    {
     "name": "stdout",
     "output_type": "stream",
     "text": [
      "   Day  DOW  Score\n",
      "1  Tue    2   -0.1\n",
      "----------\n",
      "0    Mon\n",
      "1    Tue\n",
      "Name: Day, dtype: object\n",
      "-3.0\n",
      "   Day  DOW  Score\n",
      "0  Mon    1   -3.0\n",
      "1  Tue    2   -0.1\n",
      "2  Wed    3    0.5\n",
      "3  Thu    4    1.1\n",
      "4  Fri    5    3.7\n",
      "5  Sat    6   11.0\n",
      "6  Sun    7    4.0\n"
     ]
    }
   ],
   "source": [
    "# Python code goes here\n",
    "print(df[df.Day == 'Tue'])\n",
    "\n",
    "print('-'*10)\n",
    "print(df[df['Score']<0]['Day'])\n",
    "\n",
    "# df[df['Day'] == 'Mon']['Score'] = -3 # not the right way to do it\n",
    "df.loc[0,'Score'] = -3\n",
    "print(df.loc[0, 'Score'])\n",
    "print(df)"
   ]
  },
  {
   "cell_type": "code",
   "execution_count": null,
   "metadata": {},
   "outputs": [],
   "source": []
  },
  {
   "cell_type": "markdown",
   "metadata": {},
   "source": [
    "### *Get some more info on the dataframe ...*\n",
    "* Use `df.dtypes` to see the types of the colums\n",
    "* Use `df.columns` to see the names of the colums\n",
    "* Use `df.shape` to obtain the dimension\n",
    "* Use `df.shape` to obtain the number of rows only"
   ]
  },
  {
   "cell_type": "code",
   "execution_count": 71,
   "metadata": {},
   "outputs": [
    {
     "name": "stdout",
     "output_type": "stream",
     "text": [
      "Day           object\n",
      "DayOfWeek      int64\n",
      "Score        float64\n",
      "dtype: object\n",
      "----------\n",
      "Index(['Day', 'DayOfWeek', 'Score'], dtype='object')\n",
      "----------\n",
      "(7, 3)\n",
      "----------\n",
      "7\n",
      "----------\n",
      "Day          Mon\n",
      "DayOfWeek      1\n",
      "Score         -3\n",
      "Name: 0, dtype: object\n"
     ]
    }
   ],
   "source": [
    "df.rename(columns = {'DOW':'DayOfWeek'},inplace=True)\n",
    "# Python code goes here\n",
    "print(df.dtypes)\n",
    "\n",
    "print('-'*10)\n",
    "print(df.columns)\n",
    "\n",
    "print('-'*10)\n",
    "print(df.shape)\n",
    "\n",
    "print('-'*10)\n",
    "print(df.shape[0])\n",
    "\n",
    "print('-'*10)\n",
    "print(df.loc[0])"
   ]
  },
  {
   "cell_type": "code",
   "execution_count": null,
   "metadata": {},
   "outputs": [],
   "source": []
  },
  {
   "cell_type": "markdown",
   "metadata": {},
   "source": [
    "### *Change the dataframe ...*\n",
    "* Have a look at the command `df.rename()`. What does it do?\n",
    "* Show the entire dataframe in a nice design\n"
   ]
  },
  {
   "cell_type": "code",
   "execution_count": 72,
   "metadata": {},
   "outputs": [],
   "source": [
    "df.rename(columns = {'DOW':'DayOfWeek'},inplace=True)\n",
    "# Python code goes here\n"
   ]
  },
  {
   "cell_type": "markdown",
   "metadata": {},
   "source": [
    "### Create a ataframe from a dictionary"
   ]
  },
  {
   "cell_type": "code",
   "execution_count": 73,
   "metadata": {},
   "outputs": [
    {
     "name": "stdout",
     "output_type": "stream",
     "text": [
      "{'country': ['United States', 'Australia', 'Japan', 'India', 'Russia', 'Morocco', 'Egypt'], 'drives_right': [True, False, False, False, True, True, True], 'cars_per_cap': [809, 731, 588, 18, 200, 70, 45]}\n"
     ]
    },
    {
     "data": {
      "text/html": [
       "<div>\n",
       "<style scoped>\n",
       "    .dataframe tbody tr th:only-of-type {\n",
       "        vertical-align: middle;\n",
       "    }\n",
       "\n",
       "    .dataframe tbody tr th {\n",
       "        vertical-align: top;\n",
       "    }\n",
       "\n",
       "    .dataframe thead th {\n",
       "        text-align: right;\n",
       "    }\n",
       "</style>\n",
       "<table border=\"1\" class=\"dataframe\">\n",
       "  <thead>\n",
       "    <tr style=\"text-align: right;\">\n",
       "      <th></th>\n",
       "      <th>country</th>\n",
       "      <th>drives_right</th>\n",
       "      <th>cars_per_cap</th>\n",
       "    </tr>\n",
       "  </thead>\n",
       "  <tbody>\n",
       "    <tr>\n",
       "      <th>0</th>\n",
       "      <td>United States</td>\n",
       "      <td>True</td>\n",
       "      <td>809</td>\n",
       "    </tr>\n",
       "    <tr>\n",
       "      <th>1</th>\n",
       "      <td>Australia</td>\n",
       "      <td>False</td>\n",
       "      <td>731</td>\n",
       "    </tr>\n",
       "    <tr>\n",
       "      <th>2</th>\n",
       "      <td>Japan</td>\n",
       "      <td>False</td>\n",
       "      <td>588</td>\n",
       "    </tr>\n",
       "    <tr>\n",
       "      <th>3</th>\n",
       "      <td>India</td>\n",
       "      <td>False</td>\n",
       "      <td>18</td>\n",
       "    </tr>\n",
       "    <tr>\n",
       "      <th>4</th>\n",
       "      <td>Russia</td>\n",
       "      <td>True</td>\n",
       "      <td>200</td>\n",
       "    </tr>\n",
       "    <tr>\n",
       "      <th>5</th>\n",
       "      <td>Morocco</td>\n",
       "      <td>True</td>\n",
       "      <td>70</td>\n",
       "    </tr>\n",
       "    <tr>\n",
       "      <th>6</th>\n",
       "      <td>Egypt</td>\n",
       "      <td>True</td>\n",
       "      <td>45</td>\n",
       "    </tr>\n",
       "  </tbody>\n",
       "</table>\n",
       "</div>"
      ],
      "text/plain": [
       "         country  drives_right  cars_per_cap\n",
       "0  United States          True           809\n",
       "1      Australia         False           731\n",
       "2          Japan         False           588\n",
       "3          India         False            18\n",
       "4         Russia          True           200\n",
       "5        Morocco          True            70\n",
       "6          Egypt          True            45"
      ]
     },
     "execution_count": 73,
     "metadata": {},
     "output_type": "execute_result"
    }
   ],
   "source": [
    "names = ['United States', 'Australia', 'Japan', 'India', 'Russia', 'Morocco', 'Egypt']\n",
    "dr =  [True, False, False, False, True, True, True]\n",
    "cpc = [809, 731, 588, 18, 200, 70, 45]\n",
    "dic = {'country':names, 'drives_right':dr, 'cars_per_cap':cpc}; print(dic)\n",
    "\n",
    "cars = pd.DataFrame(dic); \n",
    "cars    # DataFrame created from dictionary"
   ]
  },
  {
   "cell_type": "markdown",
   "metadata": {},
   "source": [
    "### *Select by criterion*\n",
    "* Select the countries that drive right\n",
    "* Select the countries that drive left and have a CPC larger 100"
   ]
  },
  {
   "cell_type": "code",
   "execution_count": 89,
   "metadata": {},
   "outputs": [
    {
     "data": {
      "text/html": [
       "<div>\n",
       "<style scoped>\n",
       "    .dataframe tbody tr th:only-of-type {\n",
       "        vertical-align: middle;\n",
       "    }\n",
       "\n",
       "    .dataframe tbody tr th {\n",
       "        vertical-align: top;\n",
       "    }\n",
       "\n",
       "    .dataframe thead th {\n",
       "        text-align: right;\n",
       "    }\n",
       "</style>\n",
       "<table border=\"1\" class=\"dataframe\">\n",
       "  <thead>\n",
       "    <tr style=\"text-align: right;\">\n",
       "      <th></th>\n",
       "      <th>country</th>\n",
       "      <th>drives_right</th>\n",
       "      <th>cars_per_cap</th>\n",
       "    </tr>\n",
       "  </thead>\n",
       "  <tbody>\n",
       "    <tr>\n",
       "      <th>0</th>\n",
       "      <td>False</td>\n",
       "      <td>True</td>\n",
       "      <td>False</td>\n",
       "    </tr>\n",
       "    <tr>\n",
       "      <th>4</th>\n",
       "      <td>False</td>\n",
       "      <td>True</td>\n",
       "      <td>False</td>\n",
       "    </tr>\n",
       "    <tr>\n",
       "      <th>5</th>\n",
       "      <td>False</td>\n",
       "      <td>True</td>\n",
       "      <td>False</td>\n",
       "    </tr>\n",
       "    <tr>\n",
       "      <th>6</th>\n",
       "      <td>False</td>\n",
       "      <td>True</td>\n",
       "      <td>False</td>\n",
       "    </tr>\n",
       "  </tbody>\n",
       "</table>\n",
       "</div>"
      ],
      "text/plain": [
       "   country  drives_right  cars_per_cap\n",
       "0    False          True         False\n",
       "4    False          True         False\n",
       "5    False          True         False\n",
       "6    False          True         False"
      ]
     },
     "execution_count": 89,
     "metadata": {},
     "output_type": "execute_result"
    }
   ],
   "source": [
    "# Python code goes here\n",
    "cars[cars.drives_right] == True"
   ]
  },
  {
   "cell_type": "code",
   "execution_count": 101,
   "metadata": {},
   "outputs": [
    {
     "name": "stdout",
     "output_type": "stream",
     "text": [
      "0    United States\n",
      "4           Russia\n",
      "5          Morocco\n",
      "6            Egypt\n",
      "Name: country, dtype: object\n",
      "0    United States\n",
      "4           Russia\n",
      "5          Morocco\n",
      "6            Egypt\n",
      "Name: country, dtype: object\n",
      "0    United States\n",
      "4           Russia\n",
      "5          Morocco\n",
      "6            Egypt\n",
      "Name: country, dtype: object\n"
     ]
    }
   ],
   "source": [
    "print(cars['country'][cars.drives_right == True])\n",
    "print(cars.country[cars.drives_right == True])\n",
    "print(cars.loc[cars.drives_right,'country'])"
   ]
  },
  {
   "cell_type": "code",
   "execution_count": 110,
   "metadata": {},
   "outputs": [
    {
     "name": "stdout",
     "output_type": "stream",
     "text": [
      "1    Australia\n",
      "2        Japan\n",
      "3        India\n",
      "Name: country, dtype: object\n"
     ]
    }
   ],
   "source": [
    "print(cars.loc[cars.drives_right == False & (cars.cars_per_cap > 100),'country'])\n",
    "# python will operate `&` first"
   ]
  },
  {
   "cell_type": "markdown",
   "metadata": {},
   "source": [
    "### Write to CSV"
   ]
  },
  {
   "cell_type": "code",
   "execution_count": 111,
   "metadata": {},
   "outputs": [],
   "source": [
    "cars.to_csv('cars.csv') # creates .csv file from Python in current working directory"
   ]
  },
  {
   "cell_type": "markdown",
   "metadata": {},
   "source": [
    "### A few more operations"
   ]
  },
  {
   "cell_type": "code",
   "execution_count": 112,
   "metadata": {},
   "outputs": [
    {
     "name": "stdout",
     "output_type": "stream",
     "text": [
      "0    United States\n",
      "1        Australia\n",
      "2            Japan\n",
      "3            India\n",
      "4           Russia\n",
      "5          Morocco\n",
      "6            Egypt\n",
      "Name: country, dtype: object\n",
      "         country\n",
      "0  United States\n",
      "1      Australia\n",
      "2          Japan\n",
      "3          India\n",
      "4         Russia\n",
      "5        Morocco\n",
      "6          Egypt\n",
      "         country  drives_right\n",
      "0  United States          True\n",
      "1      Australia         False\n",
      "2          Japan         False\n",
      "3          India         False\n",
      "4         Russia          True\n",
      "5        Morocco          True\n",
      "6          Egypt          True\n",
      "<class 'pandas.core.series.Series'>\n",
      "<class 'pandas.core.frame.DataFrame'>\n"
     ]
    }
   ],
   "source": [
    "print(cars['country'])                   # selecting a column as Pandas Series, 1D labeled array\n",
    "print(cars[['country']])                 # selecting a column as Pandas DataFrame\n",
    "print(cars[['country', 'drives_right']]) # selecting more columns only as Pandas DataFrame\n",
    "print(type(cars['country']))\n",
    "print(type(cars[['country']]))"
   ]
  },
  {
   "cell_type": "code",
   "execution_count": 115,
   "metadata": {},
   "outputs": [
    {
     "name": "stdout",
     "output_type": "stream",
     "text": [
      "0    United States\n",
      "1        Australia\n",
      "2            Japan\n",
      "3            India\n",
      "4           Russia\n",
      "5          Morocco\n",
      "6            Egypt\n",
      "Name: country, dtype: object\n"
     ]
    }
   ],
   "source": [
    "print(cars.loc[:,'country'])           # selecting 'country' column"
   ]
  },
  {
   "cell_type": "code",
   "execution_count": 116,
   "metadata": {},
   "outputs": [
    {
     "name": "stdout",
     "output_type": "stream",
     "text": [
      "809\n"
     ]
    },
    {
     "data": {
      "text/html": [
       "<div>\n",
       "<style scoped>\n",
       "    .dataframe tbody tr th:only-of-type {\n",
       "        vertical-align: middle;\n",
       "    }\n",
       "\n",
       "    .dataframe tbody tr th {\n",
       "        vertical-align: top;\n",
       "    }\n",
       "\n",
       "    .dataframe thead th {\n",
       "        text-align: right;\n",
       "    }\n",
       "</style>\n",
       "<table border=\"1\" class=\"dataframe\">\n",
       "  <thead>\n",
       "    <tr style=\"text-align: right;\">\n",
       "      <th></th>\n",
       "      <th>country</th>\n",
       "      <th>drives_right</th>\n",
       "      <th>cars_per_cap</th>\n",
       "    </tr>\n",
       "  </thead>\n",
       "  <tbody>\n",
       "    <tr>\n",
       "      <th>US</th>\n",
       "      <td>United States</td>\n",
       "      <td>True</td>\n",
       "      <td>809</td>\n",
       "    </tr>\n",
       "    <tr>\n",
       "      <th>AUS</th>\n",
       "      <td>Australia</td>\n",
       "      <td>False</td>\n",
       "      <td>731</td>\n",
       "    </tr>\n",
       "    <tr>\n",
       "      <th>JAP</th>\n",
       "      <td>Japan</td>\n",
       "      <td>False</td>\n",
       "      <td>588</td>\n",
       "    </tr>\n",
       "    <tr>\n",
       "      <th>IN</th>\n",
       "      <td>India</td>\n",
       "      <td>False</td>\n",
       "      <td>18</td>\n",
       "    </tr>\n",
       "    <tr>\n",
       "      <th>RU</th>\n",
       "      <td>Russia</td>\n",
       "      <td>True</td>\n",
       "      <td>200</td>\n",
       "    </tr>\n",
       "    <tr>\n",
       "      <th>MOR</th>\n",
       "      <td>Morocco</td>\n",
       "      <td>True</td>\n",
       "      <td>70</td>\n",
       "    </tr>\n",
       "    <tr>\n",
       "      <th>EG</th>\n",
       "      <td>Egypt</td>\n",
       "      <td>True</td>\n",
       "      <td>45</td>\n",
       "    </tr>\n",
       "  </tbody>\n",
       "</table>\n",
       "</div>"
      ],
      "text/plain": [
       "           country  drives_right  cars_per_cap\n",
       "US   United States          True           809\n",
       "AUS      Australia         False           731\n",
       "JAP          Japan         False           588\n",
       "IN           India         False            18\n",
       "RU          Russia          True           200\n",
       "MOR        Morocco          True            70\n",
       "EG           Egypt          True            45"
      ]
     },
     "execution_count": 116,
     "metadata": {},
     "output_type": "execute_result"
    }
   ],
   "source": [
    "# Sometimes row labels are useful\n",
    "row_labels = ['US', 'AUS', 'JAP', 'IN', 'RU', 'MOR', 'EG']\n",
    "cars.index = row_labels\n",
    "print(cars.loc['US', 'cars_per_cap'])          # select by row and column label\n",
    "cars"
   ]
  },
  {
   "cell_type": "code",
   "execution_count": 118,
   "metadata": {},
   "outputs": [
    {
     "name": "stdout",
     "output_type": "stream",
     "text": [
      "809\n",
      "809\n"
     ]
    }
   ],
   "source": [
    "# Raw access\n",
    "print(cars.loc['US', 'cars_per_cap'])          # select by row and column label\n",
    "print(cars.iloc[0,2])                          # select by row and column index"
   ]
  },
  {
   "cell_type": "code",
   "execution_count": 119,
   "metadata": {},
   "outputs": [
    {
     "data": {
      "text/html": [
       "<div>\n",
       "<style scoped>\n",
       "    .dataframe tbody tr th:only-of-type {\n",
       "        vertical-align: middle;\n",
       "    }\n",
       "\n",
       "    .dataframe tbody tr th {\n",
       "        vertical-align: top;\n",
       "    }\n",
       "\n",
       "    .dataframe thead th {\n",
       "        text-align: right;\n",
       "    }\n",
       "</style>\n",
       "<table border=\"1\" class=\"dataframe\">\n",
       "  <thead>\n",
       "    <tr style=\"text-align: right;\">\n",
       "      <th></th>\n",
       "      <th>drives_right</th>\n",
       "      <th>cars_per_cap</th>\n",
       "    </tr>\n",
       "  </thead>\n",
       "  <tbody>\n",
       "    <tr>\n",
       "      <th>US</th>\n",
       "      <td>True</td>\n",
       "      <td>809</td>\n",
       "    </tr>\n",
       "    <tr>\n",
       "      <th>AUS</th>\n",
       "      <td>False</td>\n",
       "      <td>731</td>\n",
       "    </tr>\n",
       "    <tr>\n",
       "      <th>JAP</th>\n",
       "      <td>False</td>\n",
       "      <td>588</td>\n",
       "    </tr>\n",
       "    <tr>\n",
       "      <th>IN</th>\n",
       "      <td>False</td>\n",
       "      <td>18</td>\n",
       "    </tr>\n",
       "    <tr>\n",
       "      <th>RU</th>\n",
       "      <td>True</td>\n",
       "      <td>200</td>\n",
       "    </tr>\n",
       "    <tr>\n",
       "      <th>MOR</th>\n",
       "      <td>True</td>\n",
       "      <td>70</td>\n",
       "    </tr>\n",
       "    <tr>\n",
       "      <th>EG</th>\n",
       "      <td>True</td>\n",
       "      <td>45</td>\n",
       "    </tr>\n",
       "  </tbody>\n",
       "</table>\n",
       "</div>"
      ],
      "text/plain": [
       "     drives_right  cars_per_cap\n",
       "US           True           809\n",
       "AUS         False           731\n",
       "JAP         False           588\n",
       "IN          False            18\n",
       "RU           True           200\n",
       "MOR          True            70\n",
       "EG           True            45"
      ]
     },
     "execution_count": 119,
     "metadata": {},
     "output_type": "execute_result"
    }
   ],
   "source": [
    "# Delete a column with the del() function\n",
    "del(cars['country'])\n",
    "cars"
   ]
  },
  {
   "cell_type": "code",
   "execution_count": 120,
   "metadata": {},
   "outputs": [
    {
     "data": {
      "text/html": [
       "<div>\n",
       "<style scoped>\n",
       "    .dataframe tbody tr th:only-of-type {\n",
       "        vertical-align: middle;\n",
       "    }\n",
       "\n",
       "    .dataframe tbody tr th {\n",
       "        vertical-align: top;\n",
       "    }\n",
       "\n",
       "    .dataframe thead th {\n",
       "        text-align: right;\n",
       "    }\n",
       "</style>\n",
       "<table border=\"1\" class=\"dataframe\">\n",
       "  <thead>\n",
       "    <tr style=\"text-align: right;\">\n",
       "      <th></th>\n",
       "      <th>drives_right</th>\n",
       "      <th>cars_per_cap</th>\n",
       "    </tr>\n",
       "  </thead>\n",
       "  <tbody>\n",
       "    <tr>\n",
       "      <th>AUS</th>\n",
       "      <td>False</td>\n",
       "      <td>731</td>\n",
       "    </tr>\n",
       "    <tr>\n",
       "      <th>JAP</th>\n",
       "      <td>False</td>\n",
       "      <td>588</td>\n",
       "    </tr>\n",
       "    <tr>\n",
       "      <th>IN</th>\n",
       "      <td>False</td>\n",
       "      <td>18</td>\n",
       "    </tr>\n",
       "    <tr>\n",
       "      <th>MOR</th>\n",
       "      <td>True</td>\n",
       "      <td>70</td>\n",
       "    </tr>\n",
       "    <tr>\n",
       "      <th>EG</th>\n",
       "      <td>True</td>\n",
       "      <td>45</td>\n",
       "    </tr>\n",
       "  </tbody>\n",
       "</table>\n",
       "</div>"
      ],
      "text/plain": [
       "     drives_right  cars_per_cap\n",
       "AUS         False           731\n",
       "JAP         False           588\n",
       "IN          False            18\n",
       "MOR          True            70\n",
       "EG           True            45"
      ]
     },
     "execution_count": 120,
     "metadata": {},
     "output_type": "execute_result"
    }
   ],
   "source": [
    "# Delete a rows with the drop() method\n",
    "dcars = cars.drop(['US', 'RU']); \n",
    "dcars"
   ]
  }
 ],
 "metadata": {
  "kernelspec": {
   "display_name": "Python 3.7",
   "language": "python",
   "name": "datahub"
  },
  "language_info": {
   "codemirror_mode": {
    "name": "ipython",
    "version": 3
   },
   "file_extension": ".py",
   "mimetype": "text/x-python",
   "name": "python",
   "nbconvert_exporter": "python",
   "pygments_lexer": "ipython3",
   "version": "3.7.3"
  }
 },
 "nbformat": 4,
 "nbformat_minor": 4
}
