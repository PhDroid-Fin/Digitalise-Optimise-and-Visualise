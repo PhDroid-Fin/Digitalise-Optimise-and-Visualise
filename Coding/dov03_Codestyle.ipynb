{
 "cells": [
  {
   "cell_type": "markdown",
   "metadata": {},
   "source": [
    "# Elements of Python Style\n",
    "\n",
    "dov-summer school 2019, peter.gruber@usi.ch"
   ]
  },
  {
   "cell_type": "markdown",
   "metadata": {},
   "source": [
    "Good\n",
    "```Python\n",
    "if x == 1:\n",
    "    print 'one'\n",
    "```\n",
    "\n",
    "Bad\n",
    "```Python\n",
    "if x == 1: print 'one'\n",
    "```"
   ]
  },
  {
   "cell_type": "markdown",
   "metadata": {},
   "source": [
    "## Imports"
   ]
  },
  {
   "cell_type": "markdown",
   "metadata": {},
   "source": [
    "Wildcard imports bload your namespace.\n",
    "\n",
    "Good\n",
    "```Python\n",
    "import matplotlib\n",
    "matplotlib.plot(...)\n",
    "```\n",
    "\n",
    "Also good\n",
    "```Python\n",
    "from import matplotlib import plot\n",
    "plot(...)\n",
    "```\n",
    "\n",
    "Bad\n",
    "```Python\n",
    "from import matplotlib import *\n",
    "plot(...)\n",
    "```"
   ]
  },
  {
   "cell_type": "markdown",
   "metadata": {},
   "source": [
    "## Simplify"
   ]
  },
  {
   "cell_type": "markdown",
   "metadata": {},
   "source": [
    "Additional lines help readybility\n",
    "\n",
    "Good\n",
    "```Python\n",
    "cond1 = <complex comparison>\n",
    "cond2 = <other complex comparison>\n",
    "if cond1 and cond2:\n",
    "    # do something\n",
    "```\n",
    "\n",
    "Still OK\n",
    "```Python\n",
    "if <complex comparison> and <other complex comparison>:\n",
    "    # do something\n",
    "```"
   ]
  }
 ],
 "metadata": {
  "kernelspec": {
   "display_name": "Python 3",
   "language": "python",
   "name": "python3"
  },
  "language_info": {
   "name": ""
  }
 },
 "nbformat": 4,
 "nbformat_minor": 2
}
