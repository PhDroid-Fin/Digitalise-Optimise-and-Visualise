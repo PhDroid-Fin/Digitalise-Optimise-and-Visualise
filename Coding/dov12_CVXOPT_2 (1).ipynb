{
 "cells": [
  {
   "cell_type": "markdown",
   "metadata": {},
   "source": [
    "# A first look at Optimization\n",
    "dov-summer school 2019, peter.gruber@usi.ch"
   ]
  },
  {
   "cell_type": "markdown",
   "metadata": {},
   "source": [
    "CVXOPT is a free software package for convex optimization based on the Python programming language.\n",
    "\n",
    "See [CVXOPT documentation](https://cvxopt.org/userguide/intro.html) $\\rightarrow$ discussion"
   ]
  },
  {
   "cell_type": "code",
   "execution_count": null,
   "metadata": {},
   "outputs": [],
   "source": [
    "pip install cvxopt"
   ]
  },
  {
   "cell_type": "code",
   "execution_count": null,
   "metadata": {},
   "outputs": [],
   "source": [
    "from cvxopt import matrix, solvers\n",
    "import numpy as np"
   ]
  },
  {
   "cell_type": "markdown",
   "metadata": {},
   "source": [
    "### Matrices with CVXOPT\n",
    "* Type can be integer, float or complex"
   ]
  },
  {
   "cell_type": "code",
   "execution_count": null,
   "metadata": {},
   "outputs": [],
   "source": [
    "# Create matrix, similar to R\n",
    "\n",
    "# Matrix from list\n",
    "# NB: All matrices are constructed by COLUMN!\n",
    "A = matrix([3, 5, -2, 7], (2,2))\n",
    "\n",
    "# Matrix from range\n",
    "B = matrix(range(4), (2,2))\n",
    "\n",
    "# Scalar matrix\n",
    "C = matrix(1., (3,3))\n",
    "\n",
    "# From np.array\n",
    "myArray = np.array([[1., 2., 3.], [4., 5., 6.]])\n",
    "D = matrix(myArray)\n",
    "\n",
    "# Concatenate matrics\n",
    "E = matrix([A, B])\n",
    "\n",
    "print(A)\n",
    "print(B)\n",
    "print(C)\n",
    "print(D)\n",
    "print(E)"
   ]
  },
  {
   "cell_type": "markdown",
   "metadata": {},
   "source": [
    "**_A quick note on types:_** Some versions/solvers in CXVOPT only accept matrices of type **float**, i.e. no integers. Furthermore, the error messages may be misleading."
   ]
  },
  {
   "cell_type": "code",
   "execution_count": null,
   "metadata": {},
   "outputs": [],
   "source": [
    "# Create a matrix with type float (tc=\"type code\")\n",
    "E = matrix([A, B], tc='d')\n",
    "print(E)"
   ]
  },
  {
   "cell_type": "markdown",
   "metadata": {},
   "source": [
    "## Examples"
   ]
  },
  {
   "cell_type": "markdown",
   "metadata": {},
   "source": [
    "## A first linear problem\n",
    "\n",
    "Minimize \n",
    "$$2x_1 + x_2$$\n",
    "\n",
    "Subject to \n",
    "$$\\begin{align} -x_1+x_2 &\\leq 1\\\\\n",
    "x_1 + x_2 &\\geq 2\\\\\n",
    "x_2 &\\geq 0\\\\\n",
    "x_1 - 2x_2 &\\leq 4\\end{align}$$\n",
    "\n",
    "\n"
   ]
  },
  {
   "cell_type": "markdown",
   "metadata": {},
   "source": [
    "To create a **drawing**, we have to reqrite the ineqalities as equalities (=borders) in the form of the line equation\n",
    "\n",
    "$$\\begin{align} \n",
    "(1)\\quad x_2 &= 1+x_1\\\\\n",
    "(2)\\quad x_2 &= 2 -x_1\\\\\n",
    "(3)\\quad x_2 &= 0\\\\\n",
    "(4)\\quad x_2 &=2 - 0.5X_1\\end{align}$$\n"
   ]
  },
  {
   "cell_type": "code",
   "execution_count": null,
   "metadata": {},
   "outputs": [],
   "source": [
    "from matplotlib import pyplot as plt\n",
    "from matplotlib.path import Path\n",
    "from matplotlib.patches import PathPatch\n",
    "import seaborn as sns\n",
    "xrange = (-4,5); yrange = (-4,6)\n",
    "\n",
    "# Create lots of x1-points, calcuate x2 directly in plot\n",
    "x1 = np.linspace(-5, 5)\n",
    "\n",
    "fig, ax = plt.subplots(figsize=(8, 8))\n",
    "plt.plot(x1, 1+x1, lw=3, label='Eq(1)')\n",
    "plt.fill_between(x1, yrange[0], 1+x1, color=\"k\", alpha=0.1)\n",
    "plt.plot(x1, 2-x1, lw=3, label='Eq(2)')\n",
    "plt.fill_between(x1, yrange[1], 2-x1, color=\"k\", alpha=0.1)\n",
    "plt.plot(x1, 0*x1, lw=3, label='Eq(3)')\n",
    "plt.fill_between(x1, yrange[1], 0*x1, color=\"k\", alpha=0.1)\n",
    "plt.plot(x1, -2+0.5*x1, lw=3, label='Eq(4)')\n",
    "plt.fill_between(x1, yrange[1], -2+0.5*x1,color=\"k\",  alpha=0.1)\n",
    "\n",
    "# highlight the feasible region\n",
    "path = Path([(5., 6.), (.5, 1.5), (2., 0), (4., 0), (5., 0.5), (5., 6.)])\n",
    "#patch = PathPatch(path, label='feasible region', color=\"r\",alpha=0.3)\n",
    "#ax.add_patch(patch)\n",
    "\n",
    "# labels and stuff\n",
    "plt.xlabel('x1'); plt.ylabel('x2')\n",
    "plt.legend(fontsize=14)\n",
    "plt.xlim(xrange); plt.ylim(yrange)\n",
    "plt.show()"
   ]
  },
  {
   "cell_type": "markdown",
   "metadata": {},
   "source": [
    "### Discussion\n",
    "* Have a look at the plot first. Where is the feasible region?\n",
    "* Temporarily remove the `color=\"k\"` options in the fills. Better?\n",
    "* Uncomment the `ax.add_patch(patch)` command\n",
    "\n",
    "\n"
   ]
  },
  {
   "cell_type": "code",
   "execution_count": null,
   "metadata": {},
   "outputs": [],
   "source": [
    "# Now let us add the values of the objective function\n",
    "\n",
    "# Feasible (x1, x2) pairs\n",
    "coordList = [[x1, x2] for x1 in np.arange(-4,5,0.1)\n",
    "                for x2 in np.arange(-4,6,0.1)\n",
    "                if (-x1 + x2) <= 1     #(1)\n",
    "                and (x1 + x2) >= 2     #(2)\n",
    "                and       x2  >= 0     #(3)         \n",
    "                and (x1-2*x2) <= 4]    #(4)\n",
    "\n",
    "# split array into columns\n",
    "# Why x1p? Why is this not a problem above?\n",
    "x1p = np.array(coord)[:,0]\n",
    "x2p = np.array(coord)[:,1]\n",
    "\n",
    "# caculate the objective function at each pair\n",
    "z = 2*x1p + x2p  # the objective function\n",
    "\n",
    "# Colormap\n",
    "myCmap = sns.light_palette((\"maroon\"), as_cmap=True)\n",
    "\n",
    "fig, ax = plt.subplots(figsize=(8, 8))\n",
    "plt.xlim(xrange); plt.ylim(yrange)\n",
    "plt.scatter(x1p, x2p, c=z, cmap=myCmap, label='Obj Fn')   # plot first so that we are in the background\n",
    "plt.plot(x1, 1+x1, lw=3, label='Eq(1)')\n",
    "plt.plot(x1, 2-x1, lw=3, label='Eq(2)')\n",
    "plt.plot(x1, 0*x1, lw=3, label='Eq(3)')\n",
    "plt.plot(x1, -2+0.5*x1, lw=3, label='Eq(4)')\n",
    "plt.legend(fontsize=14)\n",
    "plt.colorbar()\n",
    "plt.show()"
   ]
  },
  {
   "cell_type": "markdown",
   "metadata": {},
   "source": [
    "## Set up the CVXOP problem\n",
    "\n",
    "See [Linear Programming](https://cvxopt.org/userguide/coneprog.html#linear-programming) in the CVXOPT documentation.\n",
    "\n",
    "**Objective function:** rewrite in the form (with all vectors being *column* vectors)\n",
    "$$c^T x$$\n",
    "\n",
    "---\n",
    "\n",
    "in our case\n",
    "$$2x_1 + x_2 = \\begin{pmatrix} 2 & 1 \\end{pmatrix} \\begin{pmatrix}x_1 \\\\ x_2\\end{pmatrix}\n",
    "$$\n",
    "thus\n",
    "$$ c = \\begin{pmatrix} 2 \\\\ 1 \\end{pmatrix} $$\n",
    "\n",
    "---\n",
    "\n",
    "**Inequality contrains** are a bit hard to read. They are\n",
    "$$\\begin{align} Gx + s &= h\\\\\n",
    "s &\\geq 0\\end{align}$$\n",
    "\n",
    "---\n",
    "\n",
    "Simplify to\n",
    "$$Gx \\leq h$$\n",
    "\n",
    "Rewrite our conditions in matrix form ... multiply by $-1$ to obain \"smaller than\" inequalities\n",
    "$$\\begin{align} -x_1+x_2 &\\leq 1\\\\\n",
    "-x_1 - x_2 &\\leq -2\\\\\n",
    "-x_2 &\\leq 0\\\\\n",
    "x_1 - 2x_2 &\\leq 4\\end{align}$$\n",
    "\n",
    "Now we have\n",
    "\n",
    "$$\\underbrace{\\begin{pmatrix}-1 & 1\\\\ -1 & -1 \\\\ 0 & -1 \\\\ 1 & -2\\end{pmatrix}}_{G} \\begin{pmatrix}x_1 \\\\ x_2\\end{pmatrix} \\leq\n",
    "\\underbrace{\\begin{pmatrix}1 \\\\ -2 \\\\ 0 \\\\ 4\\end{pmatrix}}_{h}$$\n",
    "\n",
    "\n"
   ]
  },
  {
   "cell_type": "code",
   "execution_count": null,
   "metadata": {},
   "outputs": [],
   "source": [
    "c = matrix([ 2.0, 1.0 ])\n",
    "G = matrix([ [-1.0, -1.0, 0.0, 1.0], [1.0, -1.0, -1.0, -2.0] ])\n",
    "h = matrix([ 1.0, -2.0, 0.0, 4.0 ])\n",
    "sol=solvers.lp(c,G,h)"
   ]
  },
  {
   "cell_type": "code",
   "execution_count": null,
   "metadata": {},
   "outputs": [],
   "source": [
    "print(sol['x'])\n",
    "print(sol['status'])\n",
    "print(sol['primal objective'])    # the value of the obj fn\n",
    "print(sol['iterations'])    # the value of the obj fn"
   ]
  },
  {
   "cell_type": "markdown",
   "metadata": {},
   "source": [
    "## A quadratic program\n",
    "\n",
    "Consider the following problem\n",
    "\n",
    "$$\\min_{x_1,x_2}  \\frac{1}{2}x_1^2 + 3x_1 + 4x_x2$$\n",
    "\n",
    "subject to\n",
    "\n",
    "$$\\begin{align} x_1,x_2 &\\geq 0\\\\\n",
    "x_1 + 3x_2 &\\geq 15\\\\\n",
    "2x_1+5x_2 &\\leq 100\\\\\n",
    "3x_1 +4x_2 &\\leq 80\\end{align}$$\n",
    "\n",
    "---\n",
    "\n",
    "Again, we need to rewrite the problem in standard form\n",
    "\n",
    "$$\\min_{x} \\frac{1}{2}x^TPx+q^Tx$$\n",
    "\n",
    "subject to\n",
    "\n",
    "$$\\begin{align}Gx &\\leq h\\\\\n",
    "Ax &= b\\end{align}$$\n",
    "\n",
    "---\n",
    "\n",
    "In our case this is \n",
    "\n",
    "$$\\min_{x_1,x_2}  \\frac{1}{2} \\begin{pmatrix}x_1 & x_2\\end{pmatrix} \\underbrace{\\begin{pmatrix}1 & 0 \\\\ 0 &0 \\end{pmatrix}}_{P} \\begin{pmatrix}x_1 \\\\ x_2\\end{pmatrix} + \\underbrace{\\begin{pmatrix}3 & 4\\end{pmatrix}}_{q} \\begin{pmatrix}x_1 \\\\ x_2\\end{pmatrix}$$\n",
    "\n",
    "subject to\n",
    "\n",
    "$$\\underbrace{\\begin{pmatrix}-1 & 0\\\\ 0 & -1 \\\\-1 & -3 \\\\2 & 5\\\\3 & 4\\end{pmatrix}}_{G} \\begin{pmatrix}x_1 \\\\ x_2\\end{pmatrix} \\leq \\underbrace{\\begin{pmatrix}0\\\\0\\\\-15\\\\100\\\\80\\end{pmatrix}}_h$$\n",
    "\n",
    "\n",
    "\n"
   ]
  },
  {
   "cell_type": "code",
   "execution_count": null,
   "metadata": {},
   "outputs": [],
   "source": [
    "P = matrix([[1,0],[0,0]],df=\"\")\n",
    "q = matrix([3.0,4.0])\n",
    "G = matrix([[-1,0,-1,2,3],[0,-1,-3,5,4]])\n",
    "h = matrix([0,0,-15,100,80])"
   ]
  },
  {
   "cell_type": "code",
   "execution_count": null,
   "metadata": {},
   "outputs": [],
   "source": [
    "# This will not work immediately. Why?\n",
    "from cvxopt import solvers\n",
    "sol = solvers.qp(P,q,G,h)"
   ]
  },
  {
   "cell_type": "code",
   "execution_count": null,
   "metadata": {},
   "outputs": [],
   "source": [
    "print(sol['x'])\n",
    "print(sol['status'])\n",
    "print(sol['primal objective'])    # the value of the obj fn\n",
    "print(sol['iterations'])          # the value of the obj fn"
   ]
  },
  {
   "cell_type": "markdown",
   "metadata": {},
   "source": [
    "### *Now it is up to you ...*\n",
    "Solve the quadratic program ...\n",
    "\n",
    "minimize\n",
    "\n",
    "$$2x_1^2 + x_2^2 + x_1x_2 + x_1 + x_2$$\n",
    "\n",
    "subject to\n",
    "$$\\begin{align}\n",
    "x_1&\\geq 0 \\\\\n",
    "x_2&\\geq 0 \\\\\n",
    "x_1 + x_1 = 1\n",
    "\\end{align}$$\n"
   ]
  },
  {
   "cell_type": "code",
   "execution_count": null,
   "metadata": {},
   "outputs": [],
   "source": [
    "# Python code goes here"
   ]
  }
 ],
 "metadata": {
  "kernelspec": {
   "display_name": "Python 3.7",
   "language": "python",
   "name": "datahub"
  },
  "language_info": {
   "codemirror_mode": {
    "name": "ipython",
    "version": 3
   },
   "file_extension": ".py",
   "mimetype": "text/x-python",
   "name": "python",
   "nbconvert_exporter": "python",
   "pygments_lexer": "ipython3",
   "version": "3.7.3"
  }
 },
 "nbformat": 4,
 "nbformat_minor": 2
}
