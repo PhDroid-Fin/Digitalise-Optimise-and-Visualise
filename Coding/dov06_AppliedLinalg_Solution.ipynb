{
 "cells": [
  {
   "cell_type": "markdown",
   "metadata": {},
   "source": [
    "# Applied Linear algebra\n",
    "dov-summer school 2019, peter.gruber@usi.ch"
   ]
  },
  {
   "cell_type": "markdown",
   "metadata": {},
   "source": [
    "## Worked problem: PCA"
   ]
  },
  {
   "cell_type": "code",
   "execution_count": 1,
   "metadata": {},
   "outputs": [
    {
     "ename": "ModuleNotFoundError",
     "evalue": "No module named 'matplotlib'",
     "output_type": "error",
     "traceback": [
      "\u001b[0;31m---------------------------------------------------------------------------\u001b[0m",
      "\u001b[0;31mModuleNotFoundError\u001b[0m                       Traceback (most recent call last)",
      "\u001b[0;32m<ipython-input-1-69ec150c2d97>\u001b[0m in \u001b[0;36m<module>\u001b[0;34m\u001b[0m\n\u001b[1;32m      2\u001b[0m \u001b[0;32mimport\u001b[0m \u001b[0mpandas\u001b[0m \u001b[0;32mas\u001b[0m \u001b[0mpd\u001b[0m\u001b[0;34m\u001b[0m\u001b[0;34m\u001b[0m\u001b[0m\n\u001b[1;32m      3\u001b[0m \u001b[0;32mimport\u001b[0m \u001b[0mnumpy\u001b[0m \u001b[0;32mas\u001b[0m \u001b[0mnp\u001b[0m\u001b[0;34m\u001b[0m\u001b[0;34m\u001b[0m\u001b[0m\n\u001b[0;32m----> 4\u001b[0;31m \u001b[0;32mimport\u001b[0m \u001b[0mmatplotlib\u001b[0m\u001b[0;34m.\u001b[0m\u001b[0mpyplot\u001b[0m \u001b[0;32mas\u001b[0m \u001b[0mplt\u001b[0m\u001b[0;34m\u001b[0m\u001b[0;34m\u001b[0m\u001b[0m\n\u001b[0m\u001b[1;32m      5\u001b[0m \u001b[0;34m\u001b[0m\u001b[0m\n\u001b[1;32m      6\u001b[0m \u001b[0myields\u001b[0m \u001b[0;34m=\u001b[0m \u001b[0mpd\u001b[0m\u001b[0;34m.\u001b[0m\u001b[0mread_csv\u001b[0m\u001b[0;34m(\u001b[0m\u001b[0;34m'yields.csv'\u001b[0m\u001b[0;34m,\u001b[0m \u001b[0mparse_dates\u001b[0m \u001b[0;34m=\u001b[0m \u001b[0;34m[\u001b[0m\u001b[0;34m'date'\u001b[0m\u001b[0;34m]\u001b[0m\u001b[0;34m,\u001b[0m \u001b[0mindex_col\u001b[0m \u001b[0;34m=\u001b[0m \u001b[0;34m'date'\u001b[0m\u001b[0;34m)\u001b[0m\u001b[0;34m\u001b[0m\u001b[0;34m\u001b[0m\u001b[0m\n",
      "\u001b[0;31mModuleNotFoundError\u001b[0m: No module named 'matplotlib'"
     ]
    }
   ],
   "source": [
    "# Import packages and read the data\\\n",
    "import pandas as pd\n",
    "import numpy as np\n",
    "import matplotlib.pyplot as plt\n",
    "\n",
    "yields = pd.read_csv('yields.csv', parse_dates = ['date'], index_col = 'date')\n",
    "maturities = np.array([3, 6, 12, 24, 36, 60, 84, 120])/12\n",
    "print(yields.head()) "
   ]
  },
  {
   "cell_type": "code",
   "execution_count": null,
   "metadata": {},
   "outputs": [],
   "source": [
    "# Plot the yields for different maturities over time\n",
    "ax=yields.plot( y=['m3','y1','y3','y5','y10'],\n",
    "                label=['3mo','1yr','3yr','5yr','10yr'])\n",
    "ax.set_xlabel(\"Time\")                                  \n",
    "ax.set_ylabel(\"Yield\")                                  \n",
    "ax.set_title(\"US Treasury yields for different maturities over time\")\n",
    "ax.legend()\n",
    "plt.show()  "
   ]
  },
  {
   "cell_type": "code",
   "execution_count": null,
   "metadata": {},
   "outputs": [],
   "source": [
    "# Convert and normalize\n",
    "Y = yields.values / 100\n",
    "Y = Y-np.mean(Y)\n",
    "print(Y[0:3,])"
   ]
  },
  {
   "cell_type": "code",
   "execution_count": null,
   "metadata": {},
   "outputs": [],
   "source": [
    "V = np.cov(np.transpose(Y))\n",
    "L1,U = np.linalg.eig(V);\n",
    "print(\"Eigenvalues\")\n",
    "print(L1)\n",
    "print(\"Eigenvectors\")\n",
    "print(U)"
   ]
  },
  {
   "cell_type": "markdown",
   "metadata": {},
   "source": [
    "### Obtain Principal components"
   ]
  },
  {
   "cell_type": "code",
   "execution_count": null,
   "metadata": {},
   "outputs": [],
   "source": [
    "PC = Y.dot(U);\n",
    "\n",
    "level = PC[:,0]\n",
    "slope = PC[:,1]\n",
    "curv = PC[:,2]\n",
    "\n",
    "fig, ax = plt.subplots()     \n",
    "ax.plot(yields.index, level, label=\"PC1 level\")                \n",
    "ax.plot(yields.index, slope, label=\"PC2 slope\")\n",
    "ax.plot(yields.index, curv, label=\"PC3 curv\")\n",
    "ax.legend()\n",
    "plt.show() "
   ]
  },
  {
   "cell_type": "markdown",
   "metadata": {},
   "source": [
    "### Plot factor loadings"
   ]
  },
  {
   "cell_type": "code",
   "execution_count": null,
   "metadata": {},
   "outputs": [],
   "source": [
    "evec1 = U[:,0]\n",
    "evec2 = U[:,1]\n",
    "evec3 = U[:,2]\n",
    "\n",
    "fig, ax = plt.subplots()                        \n",
    "ax.plot(maturities, evec1, label = '1st PC (level)')                \n",
    "ax.plot(maturities, evec2, label = '2nd PC (slope)')   \n",
    "ax.plot(maturities, evec3, label = '3rd PC (curv)')\n",
    "ax.set_xlabel(\"Maturity\")                                                                  \n",
    "ax.set_title(\"PCA loadings (eigenvectors)\")\n",
    "ax.legend()\n",
    "plt.show() "
   ]
  },
  {
   "cell_type": "markdown",
   "metadata": {},
   "source": [
    "### Explained variation"
   ]
  },
  {
   "cell_type": "code",
   "execution_count": null,
   "metadata": {},
   "outputs": [],
   "source": [
    "print(L1 / sum(L1))\n",
    "print(np.cumsum(L1) / sum(L1))\n",
    "\n",
    "fig, ax = plt.subplots()                        \n",
    "ax.plot(range(1,9),np.cumsum(L1) / sum(L1))              \n",
    "ax.set_xlabel(\"component\")                                                                  \n",
    "ax.set_title(\"Explained variation\")\n",
    "plt.show() "
   ]
  }
 ],
 "metadata": {
  "kernelspec": {
   "display_name": "Python 3.7",
   "language": "python",
   "name": "datahub"
  },
  "language_info": {
   "codemirror_mode": {
    "name": "ipython",
    "version": 3
   },
   "file_extension": ".py",
   "mimetype": "text/x-python",
   "name": "python",
   "nbconvert_exporter": "python",
   "pygments_lexer": "ipython3",
   "version": "3.7.3"
  }
 },
 "nbformat": 4,
 "nbformat_minor": 4
}
