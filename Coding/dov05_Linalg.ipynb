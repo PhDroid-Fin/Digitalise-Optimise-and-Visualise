{
 "cells": [
  {
   "cell_type": "markdown",
   "metadata": {},
   "source": [
    "# Linear algebra\n",
    "dov-summer school 2019, peter.gruber@usi.ch"
   ]
  },
  {
   "cell_type": "markdown",
   "metadata": {},
   "source": [
    "## A quick intro to numpy arrays\n",
    "Create the following vectors and matrics\n",
    "$$u=\\begin{pmatrix}4\\\\5\\\\6\\end{pmatrix} \\quad x=\\begin{pmatrix}1\\\\2\\\\3\\end{pmatrix} \\quad y=\\begin{pmatrix}1&2&3\\end{pmatrix} \\quad A=\\begin{pmatrix}1&2&3\\\\4&5&6\\\\7&8&9\\end{pmatrix} \\quad B=\\begin{pmatrix}2&2&4\\\\1&3&5\\\\2&4&8\\end{pmatrix}$$"
   ]
  },
  {
   "cell_type": "code",
   "execution_count": 43,
   "metadata": {},
   "outputs": [
    {
     "name": "stdout",
     "output_type": "stream",
     "text": [
      "[[4]\n",
      " [5]\n",
      " [6]]\n"
     ]
    }
   ],
   "source": [
    "# Python Code goes here\n",
    "import numpy as np\n",
    "u = np.matrix.transpose(np.array([range(4,7)]))\n",
    "x = np.matrix.transpose(np.array([range(1,4)]))\n",
    "y = np.array(range(1,4))\n",
    "A = np.array([range(1,4),\n",
    "              range(4,7),\n",
    "              range(7,10)])\n",
    "B = np.array([[2,2,4],\n",
    "              [1,3,5],\n",
    "              [2,4,8]])\n",
    "print(u)"
   ]
  },
  {
   "cell_type": "markdown",
   "metadata": {},
   "source": [
    "### Subsetting and slicing arrays\n",
    "* Pretty much like lists: index starts at 0\n",
    "* Careful: column vectors need 2 indices\n",
    "* Entire rows (columns): leave out column (row) index or replace by \":\""
   ]
  },
  {
   "cell_type": "code",
   "execution_count": 44,
   "metadata": {},
   "outputs": [
    {
     "name": "stdout",
     "output_type": "stream",
     "text": [
      "1\n",
      "[5]\n",
      "5\n",
      "8\n",
      "[4 5 6]\n",
      "[4 5 6]\n"
     ]
    }
   ],
   "source": [
    "print(y[0])\n",
    "print(u[1])\n",
    "print(u[1][0])\n",
    "print(A[2,1])\n",
    "print(A[1,])\n",
    "print(A[1,:])"
   ]
  },
  {
   "cell_type": "code",
   "execution_count": 23,
   "metadata": {},
   "outputs": [
    {
     "name": "stdout",
     "output_type": "stream",
     "text": [
      "[[4 5 6]\n",
      " [7 8 9]]\n"
     ]
    }
   ],
   "source": [
    "# Careful about this one\n",
    "print(A[1:])"
   ]
  },
  {
   "cell_type": "markdown",
   "metadata": {},
   "source": [
    "### Expected operations"
   ]
  },
  {
   "cell_type": "code",
   "execution_count": 33,
   "metadata": {},
   "outputs": [
    {
     "name": "stdout",
     "output_type": "stream",
     "text": [
      "[2 3 4]\n",
      "[2 4 6]\n",
      "[[5]\n",
      " [7]\n",
      " [9]]\n",
      "[[-1  0 -1]\n",
      " [ 3  2  1]\n",
      " [ 5  4  1]]\n"
     ]
    }
   ],
   "source": [
    "print(y+1)\n",
    "print(2*y)\n",
    "print(u+x)\n",
    "print(A-B)"
   ]
  },
  {
   "cell_type": "markdown",
   "metadata": {},
   "source": [
    "### Unexpected operations"
   ]
  },
  {
   "cell_type": "code",
   "execution_count": 34,
   "metadata": {},
   "outputs": [
    {
     "name": "stdout",
     "output_type": "stream",
     "text": [
      "[[5 6 7]\n",
      " [6 7 8]\n",
      " [7 8 9]]\n",
      "[[ 2  4 12]\n",
      " [ 4 15 30]\n",
      " [14 32 72]]\n",
      "[[ 1  4  9]\n",
      " [16 25 36]\n",
      " [49 64 81]]\n"
     ]
    }
   ],
   "source": [
    "print(u+y)\n",
    "print(A*B)\n",
    "print(A**2)"
   ]
  },
  {
   "cell_type": "markdown",
   "metadata": {},
   "source": [
    "### Matrix algebra in Python"
   ]
  },
  {
   "cell_type": "code",
   "execution_count": 47,
   "metadata": {},
   "outputs": [
    {
     "name": "stdout",
     "output_type": "stream",
     "text": [
      "[[ 10  20  38]\n",
      " [ 25  47  89]\n",
      " [ 40  74 140]]\n",
      "[[14]\n",
      " [32]\n",
      " [50]]\n",
      "[30 36 42]\n",
      "[14]\n",
      "[[ 1  4  9]\n",
      " [ 4 10 18]\n",
      " [ 7 16 27]]\n"
     ]
    }
   ],
   "source": [
    "print(A.dot(B))       # A * B\n",
    "print(A.dot(x))       # A * x\n",
    "print(y.dot(A))       # y * A\n",
    "print(y.dot(x))       # y * x"
   ]
  },
  {
   "cell_type": "code",
   "execution_count": 36,
   "metadata": {},
   "outputs": [
    {
     "name": "stdout",
     "output_type": "stream",
     "text": [
      "[[ 1.   0.  -0.5]\n",
      " [ 0.5  2.  -1.5]\n",
      " [-0.5 -1.   1. ]]\n",
      "[[1. 0. 0.]\n",
      " [0. 1. 0.]\n",
      " [0. 0. 1.]]\n"
     ]
    }
   ],
   "source": [
    "Binv = np.linalg.inv(B)\n",
    "print(Binv)\n",
    "print(B.dot(Binv))"
   ]
  },
  {
   "cell_type": "markdown",
   "metadata": {},
   "source": [
    "### A few important vector/matrix operations\n",
    "L-p norms are defined as\n",
    "$$\\big(\\sum_i |x_i|^p \\big)^{1/p}$$"
   ]
  },
  {
   "cell_type": "code",
   "execution_count": 37,
   "metadata": {},
   "outputs": [
    {
     "name": "stdout",
     "output_type": "stream",
     "text": [
      "[[1]\n",
      " [2]\n",
      " [3]]\n",
      "3.7416573867739413\n",
      "3.7416573867739413\n",
      "6.0\n",
      "3.0\n"
     ]
    }
   ],
   "source": [
    "print(x)\n",
    "print(np.linalg.norm(x))                # \"normal\" L2-norm\n",
    "print(np.linalg.norm(x, ord=2))         # L-2 norm\n",
    "print(np.linalg.norm(x, ord=1))         # L-1 norm = sum of abs values\n",
    "print(np.linalg.norm(x, ord=np.inf))    # L-Inf norm = max value\n"
   ]
  },
  {
   "cell_type": "markdown",
   "metadata": {},
   "source": [
    "### Transpose, Trace, Determinant, Inverse, Eigenvalues, Condition"
   ]
  },
  {
   "cell_type": "code",
   "execution_count": 59,
   "metadata": {},
   "outputs": [
    {
     "name": "stdout",
     "output_type": "stream",
     "text": [
      "[[1 4 7]\n",
      " [2 5 8]\n",
      " [3 6 9]]\n",
      "15\n",
      "0.0\n",
      "[[ 1.   0.  -0.5]\n",
      " [ 0.5  2.  -1.5]\n",
      " [-0.5 -1.   1. ]]\n",
      "L = [ 1.61168440e+01 -1.11684397e+00 -1.30367773e-15]\n",
      "[[-0.23197069 -0.78583024  0.40824829]\n",
      " [-0.52532209 -0.08675134 -0.81649658]\n",
      " [-0.8186735   0.61232756  0.40824829]]\n",
      "3.813147060626918e+16\n",
      "[[1 2 3]\n",
      " [4 5 6]\n",
      " [7 8 9]]\n",
      "[[1. 2. 3.]\n",
      " [4. 5. 6.]\n",
      " [7. 8. 9.]]\n"
     ]
    }
   ],
   "source": [
    "print(np.matrix.transpose(A))\n",
    "print(np.trace(A))\n",
    "print(np.linalg.det(A))\n",
    "print(np.linalg.inv(B))    # Inverse of A does not exist\n",
    "L,U = np.linalg.eig(A)\n",
    "print('L = ' + str(L))\n",
    "print(U)\n",
    "print(np.linalg.cond(A))\n",
    "\n",
    "print(A)\n",
    "print(U.dot(np.diag(L)).dot(np.linalg.inv(U)))\n"
   ]
  },
  {
   "cell_type": "code",
   "execution_count": null,
   "metadata": {},
   "outputs": [],
   "source": []
  },
  {
   "cell_type": "code",
   "execution_count": null,
   "metadata": {},
   "outputs": [],
   "source": []
  },
  {
   "cell_type": "code",
   "execution_count": 60,
   "metadata": {},
   "outputs": [
    {
     "name": "stdout",
     "output_type": "stream",
     "text": [
      "[[2. 2. 4.]\n",
      " [1. 3. 5.]\n",
      " [2. 4. 8.]]\n",
      "[[2 2 4]\n",
      " [1 3 5]\n",
      " [2 4 8]]\n"
     ]
    }
   ],
   "source": [
    "L,U = np.linalg.eig(B)\n",
    "print(np.linalg.multi_dot([U,np.diag(L),np.linalg.inv(U)]))\n",
    "print(B)"
   ]
  },
  {
   "cell_type": "markdown",
   "metadata": {},
   "source": [
    "### *Solving systems of equations*\n",
    "\n",
    "Take the system of linear equations\n",
    "\n",
    "$$\\begin{eqnarray}\n",
    "2x + 3y + 4z & = & 23 \\nonumber\\\\\n",
    "2x - 1y + 2z & = & 8\\nonumber\\\\\n",
    "3x + 4y + 5z & = & 30\n",
    "\\end{eqnarray}$$\n",
    "\n",
    " This system can be written in matrix form as\n",
    "$$\n",
    "\\begin{pmatrix}\n",
    "2  &  3  &   4\\\\\n",
    "2  & -1  &   2\\\\\n",
    "3  &  4  &   5\n",
    "\\end{pmatrix}\n",
    "\\begin{pmatrix}\n",
    "x\\\\\n",
    "y\\\\\n",
    "z\n",
    "\\end{pmatrix}\n",
    "=\n",
    "\\begin{pmatrix}\n",
    "23\\\\\n",
    "8\\\\\n",
    "30\n",
    "\\end{pmatrix}\n",
    "$$\n",
    "\n",
    "Or shorter as \n",
    "$$A x = b $$\n",
    "\n",
    "The solution is then\n",
    "$$ x = A^{-1} b$$\n",
    "\n",
    "Now ...\n",
    "* solve the system of equations using Python\n",
    "* verify the result (i.e. check that $A x = b$ holds) "
   ]
  },
  {
   "cell_type": "code",
   "execution_count": 89,
   "metadata": {},
   "outputs": [
    {
     "name": "stdout",
     "output_type": "stream",
     "text": [
      "[[ 2  3  4]\n",
      " [ 2 -1  2]\n",
      " [ 3  4  5]]\n",
      "[[23]\n",
      " [ 8]\n",
      " [30]]\n",
      "x = [[1.5]\n",
      " [2. ]\n",
      " [3.5]]\n",
      "Ax = b ?\n",
      "[[ True]\n",
      " [ True]\n",
      " [ True]]\n"
     ]
    }
   ],
   "source": [
    "# Python code goes here\n",
    "from numpy import linalg as la\n",
    "from numpy import matrix as mat\n",
    "A = np.array([[2, 3, 4],\n",
    "             [2,-1, 2],\n",
    "             [3, 4, 5]])\n",
    "b = np.array([[23],\n",
    "              [8],\n",
    "              [30]])\n",
    "print(A)\n",
    "print(b)\n",
    "x = (la.inv(A)).dot(b)\n",
    "print('x = ' + str(x))\n",
    "print('Ax = b ?\\n' + str(np.equal(A.dot(x) - b < 1E-10,np.array([[1],\n",
    "                                                                 [1],\n",
    "                                                                 [1]]))))\n",
    "\n"
   ]
  }
 ],
 "metadata": {
  "kernelspec": {
   "display_name": "Python 3.7",
   "language": "python",
   "name": "datahub"
  },
  "language_info": {
   "codemirror_mode": {
    "name": "ipython",
    "version": 3
   },
   "file_extension": ".py",
   "mimetype": "text/x-python",
   "name": "python",
   "nbconvert_exporter": "python",
   "pygments_lexer": "ipython3",
   "version": "3.7.3"
  }
 },
 "nbformat": 4,
 "nbformat_minor": 4
}
