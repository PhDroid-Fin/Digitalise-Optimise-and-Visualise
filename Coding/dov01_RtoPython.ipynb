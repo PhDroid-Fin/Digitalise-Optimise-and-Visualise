{
 "cells": [
  {
   "cell_type": "markdown",
   "metadata": {},
   "source": [
    "# From R to Python\n",
    "dov-summer school 2019, peter.gruber@usi.ch"
   ]
  },
  {
   "cell_type": "code",
   "execution_count": 4,
   "metadata": {},
   "outputs": [
    {
     "name": "stdout",
     "output_type": "stream",
     "text": [
      "Hao Ma, welcome to Python!\n"
     ]
    }
   ],
   "source": [
    "# Please run the following line\n",
    "myname = 'Hao Ma'\n",
    "print(myname+', welcome to Python!')"
   ]
  },
  {
   "cell_type": "markdown",
   "metadata": {},
   "source": [
    "## Operators\n",
    "Perform the follwoing calculations\n",
    "\n",
    "| | |\n",
    "|:-|:-|\n",
    "|$(a)\\; 1/10^{-6}$   |$(b)\\; \\sqrt[4]{22}$    |\n",
    "|$(c)\\; 4^{3+2}$     |$(d)\\; \\frac{4+7}{12-2}$|\n",
    "|$(e)\\; (12-5)^{4/3}$|$(f)\\; \\frac{2^2}{3^3}$ |\n",
    "|$(g)\\; \\ln(\\frac{2+3}{4-1})$| $(h)\\; 2^{3^4} $|\n"
   ]
  },
  {
   "cell_type": "code",
   "execution_count": 22,
   "metadata": {},
   "outputs": [
    {
     "name": "stdout",
     "output_type": "stream",
     "text": [
      "(a) 1000000.0\n",
      "(b) 2.1657367706679937\n",
      "(c) 1024\n",
      "(d) 1.1\n",
      "(e) 13.390518279406722\n",
      "(f) 0.14814814814814814\n",
      "(g) 0.5108256237659907\n",
      "(h) 2417851639229258349412352\n"
     ]
    }
   ],
   "source": [
    "# Python code goes here\n",
    "List = ['a', 'b']\n",
    "import math\n",
    "print('(a) '+ str(1/1E-6))\n",
    "print('(b) '+ str(22**(1/4)))\n",
    "print('(c) '+ str(4**(3+2)))\n",
    "print('(d) '+ str((4+7)/(12-2)))\n",
    "print('(e) '+ str((12-5)**(4/3)))\n",
    "print('(f) '+ str((2**2)/(3**3)))\n",
    "print('(g) '+ str(math.log((2+3)/(4-1))))\n",
    "print('(h) '+ str(2**(3**4)))"
   ]
  },
  {
   "cell_type": "markdown",
   "metadata": {},
   "source": [
    "What's the price of a 1USD zero coupon bond with $r=5\\%$ interest over $t=7$ years?\n",
    "* With discrete compounding\n",
    "* With continuous compounding\n",
    "\n",
    "$$B_d = \\frac{1}{(1+r)^t}$$\n",
    "$$B_c = 1 \\cdot e^{(-rt)}$$"
   ]
  },
  {
   "cell_type": "code",
   "execution_count": 26,
   "metadata": {},
   "outputs": [
    {
     "name": "stdout",
     "output_type": "stream",
     "text": [
      "0.7106813301301214\n",
      "0.7046880897187134\n"
     ]
    }
   ],
   "source": [
    "# Python code goes here\n",
    "r = .05\n",
    "t = 7\n",
    "Bd = 1/(1+r)**t\n",
    "print(Bd)\n",
    "import math\n",
    "Bc = 1 * math.exp( - r * t )\n",
    "print(Bc)"
   ]
  },
  {
   "cell_type": "markdown",
   "metadata": {},
   "source": [
    "### Comparisons and logical operators\n",
    "Pretty much like in any other language\n",
    "* `==` equality\n",
    "* `!=` inequality\n",
    "* `and` is logical *and*\n",
    "* `or` is logical *or*\n",
    "* **Careful** `&` and `|` are binary operators"
   ]
  },
  {
   "cell_type": "code",
   "execution_count": 27,
   "metadata": {},
   "outputs": [
    {
     "name": "stdout",
     "output_type": "stream",
     "text": [
      "False\n",
      "True\n",
      "True\n",
      "2\n",
      "3\n"
     ]
    }
   ],
   "source": [
    "print( 1==2 )\n",
    "print( 1!=2 )\n",
    "print( 1==1 and 2==2 )\n",
    "print( 3&6 )\n",
    "print( 1|2 )"
   ]
  },
  {
   "cell_type": "markdown",
   "metadata": {},
   "source": [
    "### Two lesser known operators\n",
    "* `%` is modulus (remainder)\n",
    "* `//` is floor division (integer part)\n",
    "\n",
    "Verify that it is always true that `a == (a//b)*b + (a%b)`"
   ]
  },
  {
   "cell_type": "code",
   "execution_count": null,
   "metadata": {},
   "outputs": [],
   "source": [
    "# Python code goes here"
   ]
  },
  {
   "cell_type": "markdown",
   "metadata": {},
   "source": [
    "## Variables"
   ]
  },
  {
   "cell_type": "markdown",
   "metadata": {},
   "source": [
    "Create the following variables\n",
    "* `a` cotaining integer 5\n",
    "* `b` containig real 5\n",
    "* `c` containing the intgers 0,1,2,...,10\n",
    "* `d` containing the logical value for \"correct\""
   ]
  },
  {
   "cell_type": "code",
   "execution_count": 43,
   "metadata": {},
   "outputs": [
    {
     "name": "stdout",
     "output_type": "stream",
     "text": [
      "5\n",
      "5.0\n",
      "[0, 1, 2, 3, 4, 5, 6, 7, 8, 9, 10]\n",
      "True\n"
     ]
    }
   ],
   "source": [
    "# Python code goes here\n",
    "a = 5\n",
    "b = 5.0\n",
    "c = list(range(11))\n",
    "d = True\n",
    "print(a)\n",
    "print(b)\n",
    "print(c)\n",
    "print(d)\n"
   ]
  },
  {
   "cell_type": "code",
   "execution_count": 33,
   "metadata": {},
   "outputs": [
    {
     "name": "stdout",
     "output_type": "stream",
     "text": [
      "<class 'int'>\n",
      "<class 'float'>\n",
      "<class 'list'>\n",
      "<class 'bool'>\n",
      "<class 'str'>\n"
     ]
    }
   ],
   "source": [
    "print(type(a))\n",
    "print(type(b))\n",
    "print(type(c))\n",
    "print(type(d))\n",
    "print(type(myname))"
   ]
  },
  {
   "cell_type": "code",
   "execution_count": 35,
   "metadata": {},
   "outputs": [
    {
     "name": "stdout",
     "output_type": "stream",
     "text": [
      "<class 'int'>\n"
     ]
    }
   ],
   "source": [
    "# Why is the class of `c` a `list` and not `integer`?\n",
    "print(type(c[1]))"
   ]
  },
  {
   "cell_type": "markdown",
   "metadata": {},
   "source": [
    "### Converting data types"
   ]
  },
  {
   "cell_type": "code",
   "execution_count": 36,
   "metadata": {},
   "outputs": [
    {
     "name": "stdout",
     "output_type": "stream",
     "text": [
      "5 <class 'int'>\n",
      "5.0 <class 'float'>\n",
      "(5+0j) <class 'complex'>\n",
      "5 <class 'str'>\n"
     ]
    }
   ],
   "source": [
    "a1 = int(a);     print(a1, type(a1))\n",
    "a2 = float(a);   print(a2, type(a2))\n",
    "a3 = complex(a); print(a3, type(a3))\n",
    "a4 = str(a);     print(a4, type(a4))"
   ]
  },
  {
   "cell_type": "markdown",
   "metadata": {},
   "source": [
    "**A quick remark on complex numbers:** Should we care about complex numbers as (financial) economists? Yes! Complex numbers are used in several advanced numerical algorithms such as the Fast Fourier Transform (FFT) or the Cosine Transform (COS) algorithms."
   ]
  },
  {
   "cell_type": "markdown",
   "metadata": {},
   "source": [
    "#### Converting to logical/boolean values"
   ]
  },
  {
   "cell_type": "code",
   "execution_count": 37,
   "metadata": {},
   "outputs": [
    {
     "name": "stdout",
     "output_type": "stream",
     "text": [
      "1\n",
      "0.0\n",
      "True\n",
      "False\n"
     ]
    }
   ],
   "source": [
    "print(int(True))\n",
    "print(float(False))\n",
    "print(bool(1))   \n",
    "print(bool(0))    # obvious ..."
   ]
  },
  {
   "cell_type": "code",
   "execution_count": 38,
   "metadata": {},
   "outputs": [
    {
     "name": "stdout",
     "output_type": "stream",
     "text": [
      "True\n",
      "True\n",
      "True\n"
     ]
    }
   ],
   "source": [
    "# But what about these ...\n",
    "print(bool(0.5))\n",
    "print(bool(-1.2))\n",
    "print(bool(1+2j))"
   ]
  },
  {
   "cell_type": "markdown",
   "metadata": {},
   "source": [
    "### Working with strings"
   ]
  },
  {
   "cell_type": "code",
   "execution_count": null,
   "metadata": {},
   "outputs": [],
   "source": [
    "# Strings can be made with '' or with \"\"\n",
    "text1 = 'Nice'\n",
    "text2 = \"Nice\"\n",
    "print(text1, text2)\n",
    "print(text1 == text2)"
   ]
  },
  {
   "cell_type": "code",
   "execution_count": 39,
   "metadata": {},
   "outputs": [
    {
     "name": "stdout",
     "output_type": "stream",
     "text": [
      "The single quote said: 'This is my text.'\n",
      "The double quote answered: 'My text is easier'\n",
      "The single quote replied 'I can do easy, as well' \n"
     ]
    }
   ],
   "source": [
    "# So which one is better?\n",
    "text3 = 'The single quote said: \\'This is my text.\\''\n",
    "text4 = \"The double quote answered: 'My text is easier'\"\n",
    "text5 = '''The single quote replied 'I can do easy, as well' '''\n",
    "print(text3)\n",
    "print(text4)\n",
    "print(text5)"
   ]
  },
  {
   "cell_type": "code",
   "execution_count": 41,
   "metadata": {},
   "outputs": [
    {
     "name": "stdout",
     "output_type": "stream",
     "text": [
      "This \t is a \n",
      "long text \t with tabs\n"
     ]
    }
   ],
   "source": [
    "# Important escape characters\n",
    "text6 = 'This \\t is a \\n long text \\t with tabs'\n",
    "print(text6)"
   ]
  },
  {
   "cell_type": "markdown",
   "metadata": {},
   "source": [
    "### A few unexpected things ..."
   ]
  },
  {
   "cell_type": "code",
   "execution_count": 44,
   "metadata": {},
   "outputs": [
    {
     "name": "stdout",
     "output_type": "stream",
     "text": [
      "Hao MaHao Ma\n",
      "[0, 1, 2, 3, 4, 5, 6, 7, 8, 9, 10]\n",
      "[0, 1, 2, 3, 4, 5, 6, 7, 8, 9, 10, 0, 1, 2, 3, 4, 5, 6, 7, 8, 9, 10]\n"
     ]
    }
   ],
   "source": [
    "print(myname * 2)\n",
    "print(c)\n",
    "print(c * 2)"
   ]
  },
  {
   "cell_type": "markdown",
   "metadata": {},
   "source": [
    "#### ... and a few impossible ones"
   ]
  },
  {
   "cell_type": "code",
   "execution_count": 45,
   "metadata": {},
   "outputs": [
    {
     "ename": "TypeError",
     "evalue": "unsupported operand type(s) for ** or pow(): 'str' and 'int'",
     "output_type": "error",
     "traceback": [
      "\u001b[0;31m---------------------------------------------------------------------------\u001b[0m",
      "\u001b[0;31mTypeError\u001b[0m                                 Traceback (most recent call last)",
      "\u001b[0;32m<ipython-input-45-fd1901e16ed1>\u001b[0m in \u001b[0;36m<module>\u001b[0;34m\u001b[0m\n\u001b[0;32m----> 1\u001b[0;31m \u001b[0mprint\u001b[0m\u001b[0;34m(\u001b[0m\u001b[0mmyname\u001b[0m \u001b[0;34m**\u001b[0m \u001b[0;36m2\u001b[0m\u001b[0;34m)\u001b[0m\u001b[0;34m\u001b[0m\u001b[0;34m\u001b[0m\u001b[0m\n\u001b[0m\u001b[1;32m      2\u001b[0m \u001b[0mprint\u001b[0m\u001b[0;34m(\u001b[0m\u001b[0mc\u001b[0m \u001b[0;34m**\u001b[0m \u001b[0;36m2\u001b[0m\u001b[0;34m)\u001b[0m\u001b[0;34m\u001b[0m\u001b[0;34m\u001b[0m\u001b[0m\n",
      "\u001b[0;31mTypeError\u001b[0m: unsupported operand type(s) for ** or pow(): 'str' and 'int'"
     ]
    }
   ],
   "source": [
    "print(myname ** 2)\n",
    "print(c ** 2)"
   ]
  },
  {
   "cell_type": "markdown",
   "metadata": {},
   "source": [
    "## Working with lists (and for-loops)"
   ]
  },
  {
   "cell_type": "markdown",
   "metadata": {},
   "source": [
    "Create a list called `myList` with the following elements\n",
    "* integer 1\n",
    "* float 2.7\n",
    "* string \"three\"\n",
    "* a list containing 0,1,...5\n",
    "and print the list"
   ]
  },
  {
   "cell_type": "code",
   "execution_count": 57,
   "metadata": {},
   "outputs": [
    {
     "name": "stdout",
     "output_type": "stream",
     "text": [
      "[1, 2.7, 'three', [0, 1, 2, 3, 4, 5]]\n"
     ]
    }
   ],
   "source": [
    "# Python code goes here\n",
    "myList = [1, 2.7, \"three\", list(range(0,6))]\n",
    "print(myList)"
   ]
  },
  {
   "cell_type": "markdown",
   "metadata": {},
   "source": [
    "**Subsetting** Print the following outputs using `myList`\n",
    "* `2.7`\n",
    "* `1` (two possibilities)\n",
    "* `0`\n",
    "* `5` (as last element of the sub-list)"
   ]
  },
  {
   "cell_type": "code",
   "execution_count": 59,
   "metadata": {},
   "outputs": [
    {
     "name": "stdout",
     "output_type": "stream",
     "text": [
      "1\n",
      "2.7\n",
      "1\n",
      "0\n",
      "5\n"
     ]
    }
   ],
   "source": [
    "# Python code goes here\n",
    "print(myList[0])\n",
    "print(myList[1])\n",
    "print(myList[3][1])\n",
    "print(myList[3][0])\n",
    "print(myList[3][-1])\n"
   ]
  },
  {
   "cell_type": "markdown",
   "metadata": {},
   "source": [
    "**Slicing** Print the following outputs using `myList`\n",
    "* `[1, 2.7]`\n",
    "* `[2.7, 'three']`\n",
    "* `[1, 2, 3, 4]`\n",
    "* `[3, 4, 5]`  (find a cool way to do this)"
   ]
  },
  {
   "cell_type": "code",
   "execution_count": 68,
   "metadata": {},
   "outputs": [
    {
     "name": "stdout",
     "output_type": "stream",
     "text": [
      "[1, 2.7]\n",
      "[2.7, 'three']\n",
      "[1, 2, 3, 4]\n",
      "[3, 4, 5]\n"
     ]
    }
   ],
   "source": [
    "# Python code goes here\n",
    "print(myList[0:2])\n",
    "print(myList[1:3])\n",
    "print(myList[3][1:5])\n",
    "print(myList[-1][-3:])"
   ]
  },
  {
   "cell_type": "markdown",
   "metadata": {},
   "source": [
    "### What else can we do with a list?\n",
    "\n",
    "Try this: type `myList.` and hit the `TAB` key\n",
    "\n",
    "Now let us (in this oder) ...\n",
    "* create a list `allItems` that is a copy of `myList`\n",
    "* add the boolean value for \"not correct\" at the end of the `allItems`\n",
    "* add integer 1 at the beginning of the `allItems`\n",
    "* add the numbers 0,1,...,5 at the end of the list *as individual elements*\n",
    "\n",
    "At the end ...\n",
    "* display `myList` \n",
    "* display `allItems`\n",
    "* tell us how many items there are in `allItems`\n",
    "* tell us how often integer 1 appears in `allItems`"
   ]
  },
  {
   "cell_type": "code",
   "execution_count": 15,
   "metadata": {},
   "outputs": [],
   "source": [
    "# Python code goes here\n",
    "myList."
   ]
  },
  {
   "cell_type": "code",
   "execution_count": 16,
   "metadata": {},
   "outputs": [],
   "source": [
    "# Further discussion: why does 1 appear four times?"
   ]
  },
  {
   "cell_type": "markdown",
   "metadata": {},
   "source": [
    "### Quick iterations through lists\n",
    "In R (or MATLAB), we can do something like this:\n",
    "```R\n",
    "vec <- c(-1,0,1,2)\n",
    "sin(vec)\n",
    "vec > 0\n",
    "````\n",
    "\n",
    "This will not work with a Python list."
   ]
  },
  {
   "cell_type": "code",
   "execution_count": 80,
   "metadata": {},
   "outputs": [
    {
     "name": "stdout",
     "output_type": "stream",
     "text": [
      "-0.8414709848078965\n",
      "0.0\n",
      "0.8414709848078965\n",
      "0.9092974268256817\n",
      "False\n",
      "False\n",
      "True\n",
      "True\n"
     ]
    }
   ],
   "source": [
    "# Slow version\n",
    "import math\n",
    "myList = list(range(-1,3))\n",
    "for item in myList:\n",
    "    print(math.sin(item))\n",
    "for item in myList:\n",
    "    print(item>0)"
   ]
  },
  {
   "cell_type": "markdown",
   "metadata": {},
   "source": [
    "### List comprehension\n",
    "Syntax: `[expression(item) for item in list]`\n"
   ]
  },
  {
   "cell_type": "code",
   "execution_count": 69,
   "metadata": {},
   "outputs": [
    {
     "ename": "TypeError",
     "evalue": "must be real number, not str",
     "output_type": "error",
     "traceback": [
      "\u001b[0;31m---------------------------------------------------------------------------\u001b[0m",
      "\u001b[0;31mTypeError\u001b[0m                                 Traceback (most recent call last)",
      "\u001b[0;32m<ipython-input-69-26666eb34951>\u001b[0m in \u001b[0;36m<module>\u001b[0;34m\u001b[0m\n\u001b[1;32m      1\u001b[0m \u001b[0;32mimport\u001b[0m \u001b[0mmath\u001b[0m\u001b[0;34m\u001b[0m\u001b[0;34m\u001b[0m\u001b[0m\n\u001b[0;32m----> 2\u001b[0;31m \u001b[0;34m[\u001b[0m\u001b[0mmath\u001b[0m\u001b[0;34m.\u001b[0m\u001b[0msin\u001b[0m\u001b[0;34m(\u001b[0m\u001b[0mitem\u001b[0m\u001b[0;34m)\u001b[0m \u001b[0;32mfor\u001b[0m \u001b[0mitem\u001b[0m \u001b[0;32min\u001b[0m \u001b[0mmyList\u001b[0m\u001b[0;34m]\u001b[0m\u001b[0;34m\u001b[0m\u001b[0;34m\u001b[0m\u001b[0m\n\u001b[0m",
      "\u001b[0;32m<ipython-input-69-26666eb34951>\u001b[0m in \u001b[0;36m<listcomp>\u001b[0;34m(.0)\u001b[0m\n\u001b[1;32m      1\u001b[0m \u001b[0;32mimport\u001b[0m \u001b[0mmath\u001b[0m\u001b[0;34m\u001b[0m\u001b[0;34m\u001b[0m\u001b[0m\n\u001b[0;32m----> 2\u001b[0;31m \u001b[0;34m[\u001b[0m\u001b[0mmath\u001b[0m\u001b[0;34m.\u001b[0m\u001b[0msin\u001b[0m\u001b[0;34m(\u001b[0m\u001b[0mitem\u001b[0m\u001b[0;34m)\u001b[0m \u001b[0;32mfor\u001b[0m \u001b[0mitem\u001b[0m \u001b[0;32min\u001b[0m \u001b[0mmyList\u001b[0m\u001b[0;34m]\u001b[0m\u001b[0;34m\u001b[0m\u001b[0;34m\u001b[0m\u001b[0m\n\u001b[0m",
      "\u001b[0;31mTypeError\u001b[0m: must be real number, not str"
     ]
    }
   ],
   "source": [
    "import math\n",
    "[math.sin(item) for item in myList]"
   ]
  },
  {
   "cell_type": "markdown",
   "metadata": {},
   "source": [
    "Below is a list of (simple) returns `rsimple`. Produce ...\n",
    "* log-returns `rlog` by applying $r_{log} = \\ln(1+r_{smp})$\n",
    "* the (simple) option `payoff` (i.e. all negative returns are zero)"
   ]
  },
  {
   "cell_type": "code",
   "execution_count": null,
   "metadata": {},
   "outputs": [],
   "source": [
    "rsimple = [0.0719, 0.0163, -0.0377, 0.0685, -0.0856, -0.0051, -0.0121]\n",
    "# Python code goes here"
   ]
  },
  {
   "cell_type": "markdown",
   "metadata": {},
   "source": [
    "### Even cooler list comprehensions"
   ]
  },
  {
   "cell_type": "code",
   "execution_count": 70,
   "metadata": {},
   "outputs": [],
   "source": [
    "studentList = ['Lisa Parolini', 'Paolo Montemurro', 'Luca Xausa', 'Tomas Fiala', 'Oliver Pedrini', 'Marta Feller', \n",
    "         'Davide Brignoli', 'Nicholas Grichin', 'Davide DeFilippis', 'Trevor Simon', 'Vito Zaccardo', \n",
    "         'Andreas Passano', 'Filippo Felappi', 'Stefania Riva', 'Nicolò Bassi', 'Jonas Looser', 'Mattia Albertini', \n",
    "         'Tetteng Gaduel', 'Marko Mirkovic', 'Anna Sturaro', 'Massimo Caprari', 'Anastasiya Varvus']"
   ]
  },
  {
   "cell_type": "code",
   "execution_count": 79,
   "metadata": {},
   "outputs": [
    {
     "name": "stdout",
     "output_type": "stream",
     "text": [
      "Lisa Parolini\n",
      "4\n",
      "Lisa\n"
     ]
    }
   ],
   "source": [
    "# A bit of string magic\n",
    "student = studentList[0]\n",
    "print(student.find(' '))\n",
    "print(student[:student.find(' ')])"
   ]
  },
  {
   "cell_type": "code",
   "execution_count": 73,
   "metadata": {},
   "outputs": [
    {
     "name": "stdout",
     "output_type": "stream",
     "text": [
      "['Lisa', 'Paolo', 'Luca', 'Tomas', 'Oliver', 'Marta', 'Davide', 'Nicholas', 'Davide', 'Trevor', 'Vito', 'Andreas', 'Filippo', 'Stefania', 'Nicolò', 'Jonas', 'Mattia', 'Tetteng', 'Marko', 'Anna', 'Massimo', 'Anastasiya']\n"
     ]
    }
   ],
   "source": [
    "firstNames = [student[:student.find(' ')] for student in studentList]\n",
    "print(firstNames)"
   ]
  },
  {
   "cell_type": "code",
   "execution_count": 74,
   "metadata": {},
   "outputs": [
    {
     "data": {
      "text/plain": [
       "True"
      ]
     },
     "execution_count": 74,
     "metadata": {},
     "output_type": "execute_result"
    }
   ],
   "source": [
    "# Our rule: female names end with \"a\"\n",
    "firstNames[0][-1] == 'a'"
   ]
  },
  {
   "cell_type": "code",
   "execution_count": 75,
   "metadata": {},
   "outputs": [
    {
     "name": "stdout",
     "output_type": "stream",
     "text": [
      "['Lisa', '', 'Luca', '', '', 'Marta', '', '', '', '', '', '', '', 'Stefania', '', '', 'Mattia', '', '', 'Anna', '', 'Anastasiya']\n"
     ]
    }
   ],
   "source": [
    "# If-else: conditions before iteration (not so cool here)\n",
    "femaleStudents = [fName if fName[-1]=='a' else '' for fName in firstNames ]\n",
    "print(femaleStudents)"
   ]
  },
  {
   "cell_type": "code",
   "execution_count": 76,
   "metadata": {},
   "outputs": [
    {
     "name": "stdout",
     "output_type": "stream",
     "text": [
      "['Lisa', 'Luca', 'Marta', 'Stefania', 'Mattia', 'Anna', 'Anastasiya']\n"
     ]
    }
   ],
   "source": [
    "# Filtering: if condition at the end\n",
    "femaleStudents = [fName for fName in firstNames if fName[-1]=='a']\n",
    "print(femaleStudents)"
   ]
  },
  {
   "cell_type": "markdown",
   "metadata": {},
   "source": [
    "$\\rightarrow$ *Now produce a list of all male students*"
   ]
  },
  {
   "cell_type": "code",
   "execution_count": 77,
   "metadata": {},
   "outputs": [],
   "source": [
    "# Python code goes here"
   ]
  },
  {
   "cell_type": "code",
   "execution_count": 78,
   "metadata": {},
   "outputs": [
    {
     "name": "stdout",
     "output_type": "stream",
     "text": [
      "['Paolo', 'Tomas', 'Oliver', 'Davide', 'Nicholas', 'Davide', 'Trevor', 'Vito', 'Andreas', 'Filippo', 'Nicolò', 'Jonas', 'Tetteng', 'Marko', 'Massimo']\n"
     ]
    }
   ],
   "source": [
    "maleStudents = [fName for fName in firstNames if fName[-1]!='a']\n",
    "print(maleStudents)"
   ]
  }
 ],
 "metadata": {
  "kernelspec": {
   "display_name": "Python 3.7",
   "language": "python",
   "name": "datahub"
  },
  "language_info": {
   "codemirror_mode": {
    "name": "ipython",
    "version": 3
   },
   "file_extension": ".py",
   "mimetype": "text/x-python",
   "name": "python",
   "nbconvert_exporter": "python",
   "pygments_lexer": "ipython3",
   "version": "3.7.3"
  }
 },
 "nbformat": 4,
 "nbformat_minor": 4
}
