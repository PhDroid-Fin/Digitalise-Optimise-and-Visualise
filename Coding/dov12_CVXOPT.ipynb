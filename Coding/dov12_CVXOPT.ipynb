{
 "cells": [
  {
   "cell_type": "markdown",
   "metadata": {},
   "source": [
    "# A first look at Optimization\n",
    "dov-summer school 2019, peter.gruber@usi.ch"
   ]
  },
  {
   "cell_type": "markdown",
   "metadata": {},
   "source": [
    "CVXOPT is a free software package for convex optimization based on the Python programming language.\n",
    "\n",
    "See [CVXOPT documentation](https://cvxopt.org/userguide/intro.html) $\\rightarrow$ discussion"
   ]
  },
  {
   "cell_type": "code",
   "execution_count": 1,
   "metadata": {},
   "outputs": [
    {
     "name": "stdout",
     "output_type": "stream",
     "text": [
      "Requirement already satisfied: cvxopt in /dhlib/lib/python3.7/site-packages (1.2.3)\n",
      "Note: you may need to restart the kernel to use updated packages.\n"
     ]
    }
   ],
   "source": [
    "pip install cvxopt"
   ]
  },
  {
   "cell_type": "code",
   "execution_count": 2,
   "metadata": {},
   "outputs": [],
   "source": [
    "from cvxopt import matrix, solvers\n",
    "import numpy as np"
   ]
  },
  {
   "cell_type": "markdown",
   "metadata": {},
   "source": [
    "### Matrices with CVXOPT\n",
    "* Type can be integer, float or complex"
   ]
  },
  {
   "cell_type": "code",
   "execution_count": 3,
   "metadata": {},
   "outputs": [
    {
     "name": "stdout",
     "output_type": "stream",
     "text": [
      "[ 3 -2]\n",
      "[ 5  7]\n",
      "\n",
      "[ 0  2]\n",
      "[ 1  3]\n",
      "\n",
      "[ 1.00e+00  1.00e+00  1.00e+00]\n",
      "[ 1.00e+00  1.00e+00  1.00e+00]\n",
      "[ 1.00e+00  1.00e+00  1.00e+00]\n",
      "\n",
      "[ 1.00e+00  2.00e+00  3.00e+00]\n",
      "[ 4.00e+00  5.00e+00  6.00e+00]\n",
      "\n",
      "[ 3 -2]\n",
      "[ 5  7]\n",
      "[ 0  2]\n",
      "[ 1  3]\n",
      "\n"
     ]
    }
   ],
   "source": [
    "# Create matrix, similar to R\n",
    "\n",
    "# Matrix from list\n",
    "# NB: All matrices are constructed by COLUMN!\n",
    "A = matrix([3, 5, -2, 7], (2,2))\n",
    "\n",
    "# Matrix from range\n",
    "B = matrix(range(4), (2,2))\n",
    "\n",
    "# Scalar matrix\n",
    "C = matrix(1., (3,3))\n",
    "\n",
    "# From np.array \n",
    "myArray = np.array([[1., 2., 3.], [4., 5., 6.]])\n",
    "D = matrix(myArray) # can convert array into matrix\n",
    "\n",
    "# Concatenate matrics\n",
    "E = matrix([A, B])\n",
    "\n",
    "print(A)\n",
    "print(B)\n",
    "print(C)\n",
    "print(D)\n",
    "print(E)"
   ]
  },
  {
   "cell_type": "markdown",
   "metadata": {},
   "source": [
    "**_A quick note on types:_** Some versions/solvers in CXVOPT only accept matrices of type **float**, i.e. no integers. Furthermore, the error messages may be misleading."
   ]
  },
  {
   "cell_type": "code",
   "execution_count": 4,
   "metadata": {},
   "outputs": [
    {
     "name": "stdout",
     "output_type": "stream",
     "text": [
      "[ 3.00e+00 -2.00e+00]\n",
      "[ 5.00e+00  7.00e+00]\n",
      "[ 0.00e+00  2.00e+00]\n",
      "[ 1.00e+00  3.00e+00]\n",
      "\n"
     ]
    }
   ],
   "source": [
    "# Create a matrix with type float (tc=\"type code\")\n",
    "E = matrix([A, B], tc='d')\n",
    "print(E)"
   ]
  },
  {
   "cell_type": "markdown",
   "metadata": {},
   "source": [
    "## Examples"
   ]
  },
  {
   "cell_type": "markdown",
   "metadata": {},
   "source": [
    "## A first linear problem\n",
    "\n",
    "Minimize \n",
    "$$2x_1 + x_2$$\n",
    "\n",
    "Subject to \n",
    "$$\\begin{align} -x_1+x_2 &\\leq 1\\\\\n",
    "x_1 + x_2 &\\geq 2\\\\\n",
    "x_2 &\\geq 0\\\\\n",
    "x_1 - 2x_2 &\\leq 4\\end{align}$$\n",
    "\n",
    "\n"
   ]
  },
  {
   "cell_type": "markdown",
   "metadata": {},
   "source": [
    "To create a **drawing**, we have to reqrite the ineqalities as equalities (=borders) in the form of the line equation\n",
    "\n",
    "$$\\begin{align} \n",
    "(1)\\quad x_2 &= 1+x_1\\\\\n",
    "(2)\\quad x_2 &= 2 -x_1\\\\\n",
    "(3)\\quad x_2 &= 0\\\\\n",
    "(4)\\quad x_2 &=2 - 0.5X_1\\end{align}$$\n"
   ]
  },
  {
   "cell_type": "code",
   "execution_count": 1,
   "metadata": {},
   "outputs": [
    {
     "ename": "NameError",
     "evalue": "name 'np' is not defined",
     "output_type": "error",
     "traceback": [
      "\u001b[0;31m---------------------------------------------------------------------------\u001b[0m",
      "\u001b[0;31mNameError\u001b[0m                                 Traceback (most recent call last)",
      "\u001b[0;32m<ipython-input-1-1e464c5960b9>\u001b[0m in \u001b[0;36m<module>\u001b[0;34m\u001b[0m\n\u001b[1;32m      6\u001b[0m \u001b[0;34m\u001b[0m\u001b[0m\n\u001b[1;32m      7\u001b[0m \u001b[0;31m# Create lots of x1-points, calcuate x2 directly in plot\u001b[0m\u001b[0;34m\u001b[0m\u001b[0;34m\u001b[0m\u001b[0;34m\u001b[0m\u001b[0m\n\u001b[0;32m----> 8\u001b[0;31m \u001b[0mx1\u001b[0m \u001b[0;34m=\u001b[0m \u001b[0mnp\u001b[0m\u001b[0;34m.\u001b[0m\u001b[0mlinspace\u001b[0m\u001b[0;34m(\u001b[0m\u001b[0;34m-\u001b[0m\u001b[0;36m5\u001b[0m\u001b[0;34m,\u001b[0m \u001b[0;36m5\u001b[0m\u001b[0;34m)\u001b[0m\u001b[0;34m\u001b[0m\u001b[0;34m\u001b[0m\u001b[0m\n\u001b[0m\u001b[1;32m      9\u001b[0m \u001b[0;34m\u001b[0m\u001b[0m\n\u001b[1;32m     10\u001b[0m \u001b[0mfig\u001b[0m\u001b[0;34m,\u001b[0m \u001b[0max\u001b[0m \u001b[0;34m=\u001b[0m \u001b[0mplt\u001b[0m\u001b[0;34m.\u001b[0m\u001b[0msubplots\u001b[0m\u001b[0;34m(\u001b[0m\u001b[0mfigsize\u001b[0m\u001b[0;34m=\u001b[0m\u001b[0;34m(\u001b[0m\u001b[0;36m8\u001b[0m\u001b[0;34m,\u001b[0m \u001b[0;36m8\u001b[0m\u001b[0;34m)\u001b[0m\u001b[0;34m)\u001b[0m\u001b[0;34m\u001b[0m\u001b[0;34m\u001b[0m\u001b[0m\n",
      "\u001b[0;31mNameError\u001b[0m: name 'np' is not defined"
     ]
    }
   ],
   "source": [
    "from matplotlib import pyplot as plt\n",
    "from matplotlib.path import Path\n",
    "from matplotlib.patches import PathPatch\n",
    "import seaborn as sns\n",
    "xrange = (-4,5); yrange = (-4,6)\n",
    "\n",
    "# Create lots of x1-points, calcuate x2 directly in plot\n",
    "x1 = np.linspace(-5, 5)\n",
    "\n",
    "fig, ax = plt.subplots(figsize=(8, 8))\n",
    "plt.plot(x1, 1+x1, lw=3, label='Eq(1)')\n",
    "plt.fill_between(x1, yrange[0], 1+x1, color=\"k\", alpha=0.1) # w/o color = 'k' then it's colorful shade\n",
    "plt.plot(x1, 2-x1, lw=3, label='Eq(2)')\n",
    "plt.fill_between(x1, yrange[1], 2-x1, color=\"k\", alpha=0.1)\n",
    "plt.plot(x1, 0*x1, lw=3, label='Eq(3)')\n",
    "plt.fill_between(x1, yrange[1], 0*x1, color=\"k\", alpha=0.1)\n",
    "plt.plot(x1, -2+0.5*x1, lw=3, label='Eq(4)')\n",
    "plt.fill_between(x1, yrange[1], -2+0.5*x1,color=\"k\",  alpha=0.1)\n",
    "plt.plot(x1, max(1+x1,))\n",
    "\n",
    "# highlight the feasible region\n",
    "path = Path([(5., 6.), (.5, 1.5), (2., 0), (4., 0), (5., 0.5), (5., 6.)])\n",
    "patch = PathPatch(path, label='feasible region', color=\"r\",alpha=0.3)\n",
    "ax.add_patch(patch)\n",
    "\n",
    "# labels and stuff\n",
    "plt.xlabel('x1'); plt.ylabel('x2')\n",
    "plt.legend(fontsize=14)\n",
    "plt.xlim(xrange); plt.ylim(yrange)\n",
    "plt.show()\n"
   ]
  },
  {
   "cell_type": "code",
   "execution_count": 8,
   "metadata": {},
   "outputs": [
    {
     "name": "stdout",
     "output_type": "stream",
     "text": [
      "<class 'list'>\n"
     ]
    },
    {
     "ename": "ValueError",
     "evalue": "The truth value of an array with more than one element is ambiguous. Use a.any() or a.all()",
     "output_type": "error",
     "traceback": [
      "\u001b[0;31m---------------------------------------------------------------------------\u001b[0m",
      "\u001b[0;31mValueError\u001b[0m                                Traceback (most recent call last)",
      "\u001b[0;32m<ipython-input-8-4638a97cafaf>\u001b[0m in \u001b[0;36m<module>\u001b[0;34m\u001b[0m\n\u001b[1;32m      4\u001b[0m \u001b[0;31m# print(x_cmp)\u001b[0m\u001b[0;34m\u001b[0m\u001b[0;34m\u001b[0m\u001b[0;34m\u001b[0m\u001b[0m\n\u001b[1;32m      5\u001b[0m \u001b[0mprint\u001b[0m\u001b[0;34m(\u001b[0m\u001b[0mtype\u001b[0m\u001b[0;34m(\u001b[0m\u001b[0mx_cmp\u001b[0m\u001b[0;34m)\u001b[0m\u001b[0;34m)\u001b[0m\u001b[0;34m\u001b[0m\u001b[0;34m\u001b[0m\u001b[0m\n\u001b[0;32m----> 6\u001b[0;31m \u001b[0mmax\u001b[0m\u001b[0;34m(\u001b[0m\u001b[0mx_cmp\u001b[0m\u001b[0;34m)\u001b[0m\u001b[0;34m\u001b[0m\u001b[0;34m\u001b[0m\u001b[0m\n\u001b[0m\u001b[1;32m      7\u001b[0m \u001b[0;31m# max_v = max(1+x1, 2-x1, 0*x1, -2+.5*x1)\u001b[0m\u001b[0;34m\u001b[0m\u001b[0;34m\u001b[0m\u001b[0;34m\u001b[0m\u001b[0m\n\u001b[1;32m      8\u001b[0m \u001b[0;31m# print(max_v)\u001b[0m\u001b[0;34m\u001b[0m\u001b[0;34m\u001b[0m\u001b[0;34m\u001b[0m\u001b[0m\n",
      "\u001b[0;31mValueError\u001b[0m: The truth value of an array with more than one element is ambiguous. Use a.any() or a.all()"
     ]
    }
   ],
   "source": [
    "import numpy as np\n",
    "x1 = np.linspace(-5, 5)\n",
    "x_cmp = [x1, 1-x1]\n",
    "# print(x_cmp)\n",
    "print(type(x_cmp))\n",
    "max(x_cmp)\n",
    "# max_v = max(1+x1, 2-x1, 0*x1, -2+.5*x1)\n",
    "# print(max_v)"
   ]
  },
  {
   "cell_type": "markdown",
   "metadata": {},
   "source": [
    "### Discussion\n",
    "* Have a look at the plot first. Where is the feasible region?\n",
    "* Temporarily remove the `color=\"k\"` options in the fills. Better?\n",
    "* Uncomment the `ax.add_patch(patch)` command\n",
    "\n",
    "\n"
   ]
  },
  {
   "cell_type": "code",
   "execution_count": 26,
   "metadata": {},
   "outputs": [
    {
     "data": {
      "image/png": "[encoded data removed]",
      "text/plain": [
       "<Figure size 576x576 with 2 Axes>"
      ]
     },
     "metadata": {
      "needs_background": "light"
     },
     "output_type": "display_data"
    }
   ],
   "source": [
    "# Now let us add the values of the objective function\n",
    "\n",
    "# Feasible (x1, x2) pairs\n",
    "coordList = [[x1, x2] for x1 in np.arange(-4,5,0.1)\n",
    "                for x2 in np.arange(-4,6,0.1)\n",
    "                if (-x1 + x2) <= 1     #(1)\n",
    "                and (x1 + x2) >= 2     #(2)\n",
    "                and       x2  >= 0     #(3)         \n",
    "                and (x1-2*x2) <= 4]    #(4)\n",
    "\n",
    "# split array into columns\n",
    "# Why x1p? Why is this not a problem above?\n",
    "x1p = np.array(coordList)[:,0]\n",
    "x2p = np.array(coordList)[:,1]\n",
    "\n",
    "# caculate the objective function at each pair\n",
    "z = 2*x1p + x2p  # the objective function\n",
    "\n",
    "# Colormap\n",
    "myCmap = sns.light_palette((\"maroon\"), as_cmap=True)\n",
    "\n",
    "fig, ax = plt.subplots(figsize=(8, 8))\n",
    "plt.xlim(xrange); plt.ylim(yrange)\n",
    "plt.scatter(x1p, x2p, c=z, cmap=myCmap, label='Obj Fn')   # plot first so that we are in the background\n",
    "plt.plot(x1, 1+x1, lw=3, label='Eq(1)')\n",
    "plt.plot(x1, 2-x1, lw=3, label='Eq(2)')\n",
    "plt.plot(x1, 0*x1, lw=3, label='Eq(3)')\n",
    "plt.plot(x1, -2+0.5*x1, lw=3, label='Eq(4)')\n",
    "plt.legend(fontsize=14)\n",
    "plt.colorbar()\n",
    "plt.show()"
   ]
  },
  {
   "cell_type": "markdown",
   "metadata": {},
   "source": [
    "## Set up the CVXOP problem\n",
    "\n",
    "See [Linear Programming](https://cvxopt.org/userguide/coneprog.html#linear-programming) in the CVXOPT documentation.\n",
    "\n",
    "**Objective function:** rewrite in the form (with all vectors being *column* vectors)\n",
    "$$c^T x$$\n",
    "\n",
    "---\n",
    "\n",
    "in our case\n",
    "$$2x_1 + x_2 = \\begin{pmatrix} 2 & 1 \\end{pmatrix} \\begin{pmatrix}x_1 \\\\ x_2\\end{pmatrix}\n",
    "$$\n",
    "thus\n",
    "$$ c = \\begin{pmatrix} 2 \\\\ 1 \\end{pmatrix} $$\n",
    "\n",
    "---\n",
    "\n",
    "**Inequality contrains** are a bit hard to read. They are\n",
    "$$\\begin{align} Gx + s &= h\\\\\n",
    "s &\\geq 0\\end{align}$$\n",
    "\n",
    "---\n",
    "\n",
    "Simplify to\n",
    "$$Gx \\leq h$$\n",
    "\n",
    "Rewrite our conditions in matrix form ... multiply by $-1$ to obain \"smaller than\" inequalities\n",
    "$$\\begin{align} -x_1+x_2 &\\leq 1\\\\\n",
    "-x_1 - x_2 &\\leq -2\\\\\n",
    "-x_2 &\\leq 0\\\\\n",
    "x_1 - 2x_2 &\\leq 4\\end{align}$$\n",
    "\n",
    "Now we have\n",
    "\n",
    "$$\\underbrace{\\begin{pmatrix}-1 & 1\\\\ -1 & -1 \\\\ 0 & -1 \\\\ 1 & -2\\end{pmatrix}}_{G} \\begin{pmatrix}x_1 \\\\ x_2\\end{pmatrix} \\leq\n",
    "\\underbrace{\\begin{pmatrix}1 \\\\ -2 \\\\ 0 \\\\ 4\\end{pmatrix}}_{h}$$\n",
    "\n",
    "\n"
   ]
  },
  {
   "cell_type": "code",
   "execution_count": 38,
   "metadata": {},
   "outputs": [
    {
     "name": "stdout",
     "output_type": "stream",
     "text": [
      "     pcost       dcost       gap    pres   dres   k/t\n",
      " 0:  2.6471e+00 -7.0588e-01  2e+01  8e-01  2e+00  1e+00\n",
      " 1:  3.0726e+00  2.8437e+00  1e+00  1e-01  2e-01  3e-01\n",
      " 2:  2.4891e+00  2.4808e+00  1e-01  1e-02  2e-02  5e-02\n",
      " 3:  2.4999e+00  2.4998e+00  1e-03  1e-04  2e-04  5e-04\n",
      " 4:  2.5000e+00  2.5000e+00  1e-05  1e-06  2e-06  5e-06\n",
      " 5:  2.5000e+00  2.5000e+00  1e-07  1e-08  2e-08  5e-08\n",
      "Optimal solution found.\n"
     ]
    }
   ],
   "source": [
    "c = matrix([ 2.0, 1.0 ])\n",
    "G = matrix([ [-1.0, -1.0, 0.0, 1.0], [1.0, -1.0, -1.0, -2.0] ])\n",
    "h = matrix([ 1.0, -2.0, 0.0, 4.0 ])\n",
    "sol=solvers.lp(c,G,h)\n",
    "# ? solvers.lp"
   ]
  },
  {
   "cell_type": "code",
   "execution_count": 8,
   "metadata": {},
   "outputs": [
    {
     "name": "stdout",
     "output_type": "stream",
     "text": [
      "[ 5.00e-01]\n",
      "[ 1.50e+00]\n",
      "\n",
      "optimal\n",
      "2.499999989554308\n",
      "5\n"
     ]
    }
   ],
   "source": [
    "print(sol['x'])\n",
    "print(sol['status'])\n",
    "print(sol['primal objective'])    # the value of the obj fn\n",
    "print(sol['iterations'])    # the value of the obj fn"
   ]
  },
  {
   "cell_type": "markdown",
   "metadata": {},
   "source": [
    "## A quadratic program\n",
    "\n",
    "Consider the following problem\n",
    "\n",
    "$$\\min_{x_1,x_2}  \\frac{1}{2}x_1^2 + 3x_1 + 4x_2$$\n",
    "\n",
    "subject to\n",
    "\n",
    "$$\\begin{align} x_1,x_2 &\\geq 0\\\\\n",
    "x_1 + 3x_2 &\\geq 15\\\\\n",
    "2x_1+5x_2 &\\leq 100\\\\\n",
    "3x_1 +4x_2 &\\leq 80\\end{align}$$\n",
    "\n",
    "---\n",
    "\n",
    "Again, we need to rewrite the problem in standard form\n",
    "\n",
    "$$\\min_{x} \\frac{1}{2}x^TPx+q^Tx$$\n",
    "\n",
    "subject to\n",
    "\n",
    "$$\\begin{align}Gx &\\leq h\\\\\n",
    "Ax &= b\\end{align}$$\n",
    "\n",
    "---\n",
    "\n",
    "In our case this is \n",
    "\n",
    "$$\\min_{x_1,x_2}  \\frac{1}{2} \\begin{pmatrix}x_1 & x_2\\end{pmatrix} \\underbrace{\\begin{pmatrix}1 & 0 \\\\ 0 &0 \\end{pmatrix}}_{P} \\begin{pmatrix}x_1 \\\\ x_2\\end{pmatrix} + \\underbrace{\\begin{pmatrix}3 & 4\\end{pmatrix}}_{q} \\begin{pmatrix}x_1 \\\\ x_2\\end{pmatrix}$$\n",
    "\n",
    "subject to\n",
    "\n",
    "$$\\underbrace{\\begin{pmatrix}-1 & 0\\\\ 0 & -1 \\\\-1 & -3 \\\\2 & 5\\\\3 & 4\\end{pmatrix}}_{G} \\begin{pmatrix}x_1 \\\\ x_2\\end{pmatrix} \\leq \\underbrace{\\begin{pmatrix}0\\\\0\\\\-15\\\\100\\\\80\\end{pmatrix}}_h$$\n",
    "\n",
    "\n",
    "\n"
   ]
  },
  {
   "cell_type": "code",
   "execution_count": 42,
   "metadata": {},
   "outputs": [
    {
     "name": "stdout",
     "output_type": "stream",
     "text": [
      "[ 1.00e+00  0.00e+00]\n",
      "[ 0.00e+00  0.00e+00]\n",
      "\n"
     ]
    }
   ],
   "source": [
    "P = matrix([[1,0],[0,0]], tc='d')#,df=\"\")\n",
    "q = matrix([3.0,4.0])\n",
    "G = matrix([[-1,0,-1,2,3],[0,-1,-3,5,4]], tc='d')\n",
    "h = matrix([0,0,-15,100,80], tc = 'd')\n",
    "print(P)"
   ]
  },
  {
   "cell_type": "code",
   "execution_count": 43,
   "metadata": {},
   "outputs": [
    {
     "name": "stdout",
     "output_type": "stream",
     "text": [
      "     pcost       dcost       gap    pres   dres\n",
      " 0:  1.0780e+02 -7.6366e+02  9e+02  0e+00  4e+01\n",
      " 1:  9.3245e+01  9.7637e+00  8e+01  6e-17  3e+00\n",
      " 2:  6.7311e+01  3.2553e+01  3e+01  2e-16  1e+00\n",
      " 3:  2.6071e+01  1.5068e+01  1e+01  2e-16  7e-01\n",
      " 4:  3.7092e+01  2.3152e+01  1e+01  1e-16  4e-01\n",
      " 5:  2.5352e+01  1.8652e+01  7e+00  6e-17  3e-16\n",
      " 6:  2.0062e+01  1.9974e+01  9e-02  9e-17  2e-16\n",
      " 7:  2.0001e+01  2.0000e+01  9e-04  2e-16  1e-16\n",
      " 8:  2.0000e+01  2.0000e+01  9e-06  1e-16  3e-16\n",
      "Optimal solution found.\n"
     ]
    }
   ],
   "source": [
    "# This will not work immediately. Why?\n",
    "sol = solvers.qp(P,q,G,h)"
   ]
  },
  {
   "cell_type": "code",
   "execution_count": 44,
   "metadata": {},
   "outputs": [
    {
     "name": "stdout",
     "output_type": "stream",
     "text": [
      "[ 7.13e-07]\n",
      "[ 5.00e+00]\n",
      "\n",
      "optimal\n",
      "20.00000617311241\n",
      "8\n"
     ]
    }
   ],
   "source": [
    "print(sol['x'])\n",
    "print(sol['status'])\n",
    "print(sol['primal objective'])    # the value of the obj fn\n",
    "print(sol['iterations'])          # the value of the obj fn"
   ]
  },
  {
   "cell_type": "markdown",
   "metadata": {},
   "source": [
    "### *Now it is up to you ...*\n",
    "Solve the quadratic program ...\n",
    "\n",
    "minimize\n",
    "\n",
    "$$2x_1^2 + x_2^2 + x_1x_2 + x_1 + x_2$$\n",
    "\n",
    "subject to\n",
    "$$\\begin{align}\n",
    "x_1&\\geq 0 \\\\\n",
    "x_2&\\geq 0 \\\\\n",
    "x_1 + x_2 &= 1\n",
    "\\end{align}$$\n"
   ]
  },
  {
   "cell_type": "code",
   "execution_count": 70,
   "metadata": {},
   "outputs": [
    {
     "name": "stdout",
     "output_type": "stream",
     "text": [
      "[ 4.00e+00  1.00e+00]\n",
      "[ 1.00e+00  2.00e+00]\n",
      "\n",
      "[ 1.00e+00]\n",
      "[ 1.00e+00]\n",
      "\n",
      "[-1.00e+00  0.00e+00]\n",
      "[ 0.00e+00 -1.00e+00]\n",
      "\n",
      "[ 0.00e+00]\n",
      "[ 0.00e+00]\n",
      "\n",
      "[ 1.00e+00  1.00e+00]\n",
      "\n",
      "[ 1.00e+00]\n",
      "\n"
     ]
    }
   ],
   "source": [
    "# Python code goes here\n",
    "P = matrix([[2,1/2],[1/2,1]], tc='d')\n",
    "P = P*2 # must be symmetric; otw, result will differ\n",
    "q = matrix([1,1], tc='d')\n",
    "G = matrix([[-1,0],[0,-1]], tc='d')\n",
    "h = matrix([0,0], tc = 'd')\n",
    "A = matrix([[1],[1]], tc='d')\n",
    "b = matrix([1], tc='d')\n",
    "\n",
    "print(P)\n",
    "print(q)\n",
    "print(G)\n",
    "print(h)\n",
    "print(A)\n",
    "print(b)"
   ]
  },
  {
   "cell_type": "code",
   "execution_count": 71,
   "metadata": {},
   "outputs": [
    {
     "name": "stdout",
     "output_type": "stream",
     "text": [
      "     pcost       dcost       gap    pres   dres\n",
      " 0:  1.8889e+00  7.7778e-01  1e+00  2e-16  2e+00\n",
      " 1:  1.8769e+00  1.8320e+00  4e-02  2e-16  6e-02\n",
      " 2:  1.8750e+00  1.8739e+00  1e-03  2e-16  5e-04\n",
      " 3:  1.8750e+00  1.8750e+00  1e-05  1e-16  5e-06\n",
      " 4:  1.8750e+00  1.8750e+00  1e-07  1e-16  5e-08\n",
      "Optimal solution found.\n",
      "[ 2.50e-01]\n",
      "[ 7.50e-01]\n",
      "\n",
      "optimal\n",
      "1.875000000000018\n",
      "4\n"
     ]
    }
   ],
   "source": [
    "sol = solvers.qp(P,q,G,h,A,b)\n",
    "print(sol['x'])\n",
    "print(sol['status'])\n",
    "print(sol['primal objective'])    # the value of the obj fn\n",
    "print(sol['iterations'])          # the value of the obj fn\n"
   ]
  },
  {
   "cell_type": "code",
   "execution_count": null,
   "metadata": {},
   "outputs": [],
   "source": []
  },
  {
   "cell_type": "code",
   "execution_count": null,
   "metadata": {},
   "outputs": [],
   "source": []
  }
 ],
 "metadata": {
  "kernelspec": {
   "display_name": "Python 3.7",
   "language": "python",
   "name": "datahub"
  },
  "language_info": {
   "codemirror_mode": {
    "name": "ipython",
    "version": 3
   },
   "file_extension": ".py",
   "mimetype": "text/x-python",
   "name": "python",
   "nbconvert_exporter": "python",
   "pygments_lexer": "ipython3",
   "version": "3.7.3"
  }
 },
 "nbformat": 4,
 "nbformat_minor": 2
}
