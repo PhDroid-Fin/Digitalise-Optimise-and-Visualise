{
 "cells": [
  {
   "cell_type": "markdown",
   "metadata": {
    "slideshow": {
     "slide_type": "slide"
    }
   },
   "source": [
    "# Convex sets\n",
    "\n",
    "1. Lines and line segments\n",
    "2. Affine sets and affine combinations\n",
    "     1. Affine dimension\n",
    "3. Convex sets\n",
    "    1. Definition\n",
    "    2. Graphical presentation and intuition\n",
    "    3. Some tricky examples\n",
    "    4. Convex hull\n",
    "    5. Cones\n",
    "4. Examples of convex sets in $R^n$ with visualisations\n",
    "5. Convex sets in other spaces\n",
    "    1. Cone of positive semidefinite matrices\n",
    "    2. Some cone of polynomials"
   ]
  },
  {
   "cell_type": "markdown",
   "metadata": {
    "slideshow": {
     "slide_type": "slide"
    }
   },
   "source": [
    "# Lines and line segments\n",
    "\n",
    "- Take two points in $R^n$, $x_1 \\neq x_2$.\n",
    "- Take $\\theta \\in R$\n",
    "- Then ...\n",
    "\n",
    "$$\n",
    "    y = \\theta x_1 + (1 - \\theta) x_2\n",
    "$$\n",
    "\n",
    "... is a line.\n",
    "\n",
    "We can write it\n",
    "\n",
    "$$\n",
    "    y = x_2 + \\theta (x_1 - x_2)\n",
    "$$\n",
    "\n",
    "And we'll use it to define the notion of an **affine set**."
   ]
  },
  {
   "cell_type": "markdown",
   "metadata": {
    "slideshow": {
     "slide_type": "slide"
    }
   },
   "source": [
    "# Affine sets\n",
    "\n",
    "## Definition\n",
    "\n",
    "- Take a set $C \\subset R^n$\n",
    "- The set $C$ is **affine** if a **line** through any two points in $C$, lies in $C$\n",
    "- Mathematically:\n",
    "\n",
    "$$\n",
    "    \\forall_{x_1, x_2 \\in C,\\, \\theta \\in R} \\theta x_1 + (1 - \\theta) x_2 \\in C\n",
    "$$\n",
    "\n",
    "## Generalisation\n",
    "\n",
    "- extend the line definition to $\\sum_i \\theta_i x_i$ s.t. $\\sum_i \\theta = 1$ -- **affine combination**\n",
    "- affine sets contains affine combinations"
   ]
  },
  {
   "cell_type": "markdown",
   "metadata": {
    "slideshow": {
     "slide_type": "subslide"
    }
   },
   "source": [
    "## Affine sets are translated subspaces\n",
    "\n",
    "- Take $C$ and $x_0 \\in C$\n",
    "- Define \n",
    "$$\n",
    "V = C - x_0 = \\{x - x_0| x\\in C \\}\n",
    "$$\n",
    "\n",
    "### $V$ is a subspace\n",
    "\n",
    "- try showing that for any two elements of $V$, $v_1$ and $v_2$, $\\alpha v_1 + \\beta v_2 \\in V$\n",
    "\n",
    "### Reverse the reasoning\n",
    "\n",
    "- Any affine set $C$ can be expressed as \n",
    "$$C = V + x_0 = \\{x + x_0, x \\in V\\}$$"
   ]
  },
  {
   "cell_type": "markdown",
   "metadata": {
    "slideshow": {
     "slide_type": "subslide"
    }
   },
   "source": [
    "<img src=\"fig/affine-space.png\">"
   ]
  },
  {
   "cell_type": "markdown",
   "metadata": {
    "slideshow": {
     "slide_type": "slide"
    }
   },
   "source": [
    "# Convex sets\n",
    "\n",
    "## Definition\n",
    "\n",
    "- Again, $C \\subset R^n$\n",
    "- The set $C$ is **convex** if a **line segment** between any two points in $C$, lies in $C$\n",
    "- Mathematically\"\n",
    "\n",
    "$$\n",
    "     \\forall_{x_1, x_2 \\in C,\\, \\theta \\in [0,1]} \\theta x_1 + (1 - \\theta) x_2 \\in C\n",
    "$$\n",
    "\n",
    "### Follow-up notions\n",
    "- $x = \\sum_{\\theta_i x_i}$ with $\\theta_i \\geq 0$, $\\sum_i \\theta_i = 1$ (precludes $\\theta_i > 1$) is called a **convex combination**\n",
    "    - expectation of a discrete probability distribution is a convex combination\n",
    "    - a convex set contains all convex combinations of its points\n",
    "- **convex hull** of set $C$ ($\\mathbf{\\text{conv}} C$): set containing all convex combinations of elements of $C$\n",
    "    - always convex even if $C$ is not\n",
    "    - $\\mathbf{\\text{conv}}C = \\left\\{ \\sum_i \\theta_i x_i | x_i \\in C, \\theta_i \\geq 0, \\sum_i \\theta_i = 1 \\right\\}$\n",
    "- notions easily generalised to infinite-dimensional sets (but not in this course)"
   ]
  },
  {
   "cell_type": "markdown",
   "metadata": {
    "slideshow": {
     "slide_type": "subslide"
    }
   },
   "source": [
    "# Some convex and non-convex sets\n",
    "\n",
    "<img src=\"fig/convex-sets-bv.png\">"
   ]
  },
  {
   "cell_type": "markdown",
   "metadata": {
    "slideshow": {
     "slide_type": "subslide"
    }
   },
   "source": [
    "# Affine vs convex set\n",
    "\n",
    "<img src=\"fig/lin-aff-conv.png\">"
   ]
  },
  {
   "cell_type": "markdown",
   "metadata": {
    "slideshow": {
     "slide_type": "slide"
    }
   },
   "source": [
    "# Cones\n",
    "\n",
    "\n",
    "## Definition\n",
    "- Take a set $C \\subset R^n$, constant $\\alpha \\geq 0$\n",
    "- The set $C$ is a cone, if any element, after scaling by $\\alpha$ is still in the set\n",
    "- Mathematically:\n",
    "$$\n",
    "    \\forall_{x \\in C, \\alpha \\geq 0} \\alpha x \\in C\n",
    "$$\n",
    "- Intuitively: a cone contains all half-lines from the origin through any point in the cone.\n",
    "\n",
    "## Convex cones\n",
    "- If a set is **convex** and a **cone**, it's a **convex cone**\n",
    "- not all cones are convex, see below"
   ]
  },
  {
   "cell_type": "markdown",
   "metadata": {
    "slideshow": {
     "slide_type": "subslide"
    }
   },
   "source": [
    "# A convex cone\n",
    "\n",
    "<img src=\"fig/Circular-pyramid.png\">"
   ]
  },
  {
   "cell_type": "markdown",
   "metadata": {
    "slideshow": {
     "slide_type": "subslide"
    }
   },
   "source": [
    "# A convex cone\n",
    "\n",
    "<img src=\"fig/Polyhedral-cone.png\">"
   ]
  },
  {
   "cell_type": "markdown",
   "metadata": {
    "slideshow": {
     "slide_type": "subslide"
    }
   },
   "source": [
    "# Non-convex cone\n",
    "\n",
    "<img src=\"fig/1024px-DoubleCone.png\" height=\"60%\" width=\"60%\">\n",
    "\n",
    "- can we sketch some other non-convex cone?"
   ]
  },
  {
   "cell_type": "markdown",
   "metadata": {
    "slideshow": {
     "slide_type": "subslide"
    }
   },
   "source": [
    "# Any cones here?\n",
    "\n",
    "<img src=\"fig/not-a-cone.png\" height=\"60%\" width=\"60%\">\n",
    "\n",
    "- is the blue-ish set a cone?\n",
    "- and how about just the top half of it?\n",
    "- and how about if we moved this top half to the origin?"
   ]
  },
  {
   "cell_type": "markdown",
   "metadata": {
    "slideshow": {
     "slide_type": "slide"
    }
   },
   "source": [
    "# Examples of convex sets\n",
    "\n",
    "- hyperplanes and halfspaces\n",
    "- polyhedra\n",
    "- balls and ellipsoids\n",
    "    - euclidean\n",
    "    - Lp?\n",
    "- norm cones in L1 and L2\n",
    "- positive semidef cone"
   ]
  },
  {
   "cell_type": "markdown",
   "metadata": {
    "slideshow": {
     "slide_type": "subslide"
    }
   },
   "source": [
    "# Hyperplanes and halfspaces\n",
    "\n",
    "### Hyperplane: \n",
    "$$\n",
    "    \\{x | a^T x = b\\} \\text{ for } a \\in R^n,\\, a\\neq 0,\\, b \\in R\n",
    "$$\n",
    "- $b$ determines offset from origin; subspace if $b$=0\n",
    "- set of all points whose inner product with $a$ is 0\n",
    "- affine and convex set\n",
    "\n",
    "### Halfspace\n",
    "$$\n",
    "    \\{x | a^T x \\leq b\\}\n",
    "$$\n",
    "- convex, but not affine"
   ]
  },
  {
   "cell_type": "markdown",
   "metadata": {
    "slideshow": {
     "slide_type": "subslide"
    }
   },
   "source": [
    "# A hyperplane divides the space into halfspaces\n",
    "\n",
    "<img src=\"fig/hyperplane.png\">"
   ]
  },
  {
   "cell_type": "markdown",
   "metadata": {
    "slideshow": {
     "slide_type": "subslide"
    }
   },
   "source": [
    "# Polyhedra\n",
    "\n",
    "- intersection of a finite number of halfspaces\n",
    "$$\n",
    "    \\bigcap_i \\{x | a_i^T x \\leq b_i\\}\n",
    "$$\n",
    "- solution to a finite number of linear inequalities\n",
    "- don't have to be bounded"
   ]
  },
  {
   "cell_type": "markdown",
   "metadata": {
    "slideshow": {
     "slide_type": "subslide"
    }
   },
   "source": [
    "# A bounded polyhedron\n",
    "\n",
    "<img src=\"fig/conv-polyhedron.png\" width=\"80%\" height=\"80%\">"
   ]
  },
  {
   "cell_type": "markdown",
   "metadata": {
    "slideshow": {
     "slide_type": "subslide"
    }
   },
   "source": [
    "# Balls\n",
    "\n",
    "### Reminder: $L^p$ norms\n",
    "- $L^2$: Euclidian norm: $||x||_2 = \\sqrt{\\sum_i x_i^2}$\n",
    "- for $p > 0$: $||x||_p = \\left( \\sum_i |x_i|^p \\right)^{1/p}$\n",
    "\n",
    "### Definition of norm ball\n",
    "$$\n",
    "    B(x_c, r) = \\{x \\, | \\,  ||x - x_c||_p \\leq r\\}\n",
    "$$\n",
    "- for $p \\geq 1$ balls are convex"
   ]
  },
  {
   "cell_type": "markdown",
   "metadata": {
    "slideshow": {
     "slide_type": "fragment"
    }
   },
   "source": [
    "<img src=\"fig/lp-norm-balls.png\" width=\"75%\" height=\"75%\">"
   ]
  },
  {
   "cell_type": "markdown",
   "metadata": {
    "slideshow": {
     "slide_type": "subslide"
    }
   },
   "source": [
    "# Norm cones\n",
    "\n",
    "- Take $(x,t) \\in R^{n+1}$\n",
    "$$\n",
    "    C = \\{ (x,t) \\, | \\, ||x||_p \\leq t \\}\n",
    "$$\n",
    "\n",
    "### Second-order cone\n",
    "- important special case\n",
    "- will define a class of optimisation problems of its own\n",
    "- also known as the \"ice cream cone\"\n",
    "$$\n",
    "    C = \\{ (x,t) \\, | \\, ||x||_2 \\leq t \\}\n",
    "$$"
   ]
  },
  {
   "cell_type": "markdown",
   "metadata": {
    "slideshow": {
     "slide_type": "subslide"
    }
   },
   "source": [
    "# Ice-cream cone\n",
    "\n",
    "<img src=\"fig/cones.png\">"
   ]
  },
  {
   "cell_type": "markdown",
   "metadata": {
    "slideshow": {
     "slide_type": "subslide"
    }
   },
   "source": [
    "# Cone of positive semi-definite matrices\n",
    "\n",
    "### Set of symmetric $n \\times n$ matrices\n",
    "$$\n",
    "    \\mathbf{S}^n = \\{X \\in R^{n\\times n} | X = X^T \\}\n",
    "$$\n",
    "- vector space with dimension $n(n+1)/2$\n",
    "\n",
    "### Set of positive semidefinite matrices\n",
    "$$\n",
    "    \\mathbf{S}^n_+ = \\{X \\in S^n | X \\succeq 0\\}\n",
    "$$\n",
    "- $\\succeq$ does **not** mean element-wise greater than 0 here!\n",
    "- We will understand $X \\succeq 0$ better soon!\n"
   ]
  },
  {
   "cell_type": "markdown",
   "metadata": {
    "slideshow": {
     "slide_type": "slide"
    }
   },
   "source": [
    "# Operations preserving convexity\n",
    "\n",
    "### If you learn\n",
    "- which basic sets are convex\n",
    "- what operations on sets result in convex sets\n",
    "\n",
    "### You can easily determine which sets are convex\n",
    "\n",
    "### A list:\n",
    "- Intersection\n",
    "- Affine transformations\n",
    "- *Linear-fractiona*l and *perspective functions* -- we won't cover these in detail"
   ]
  },
  {
   "cell_type": "markdown",
   "metadata": {
    "slideshow": {
     "slide_type": "subslide"
    }
   },
   "source": [
    "# Intersection and convexity\n",
    "\n",
    "- Take some family of convex sets $S_{\\alpha}$, $\\alpha$ can be an uncountably infinite set $\\alpha \\in \\mathcal{A}$\n",
    "\n",
    "$$\n",
    "    \\bigcap_{\\alpha \\in \\mathcal{A}} S_{\\alpha} \\text{ is convex}\n",
    "$$\n",
    "\n",
    "### Positive semidefinite matrix cone\n",
    "- Recall $S^n$ are **symmetric** matrices\n",
    "- Let $z \\in R^n$ be any vector\n",
    "- We say that a symmetric matrix $X$ is positive semidefinite definite if $\\forall_{z} z^T X z \\geq 0$\n",
    "- We can characterise the PSD cone in this way\n",
    "\n",
    "$$\n",
    "    S_{+}^n = \\bigcap_{z \\neq 0}\\{X \\in S^n | z^T X z \\geq 0 \\}\n",
    "$$\n",
    "\n",
    "- actually for a **given** $z$, **$z^T X z$ is linear in $X$** and so the set $\\{X | z^T X z \\geq 0 \\}$ is a **halfspace**\n",
    "\n",
    "### Insight\n",
    "- **Every** closed convex set can be expressed as an intersection of all halfspaces that contain it."
   ]
  },
  {
   "cell_type": "markdown",
   "metadata": {
    "slideshow": {
     "slide_type": "subslide"
    }
   },
   "source": [
    "# Affine functions and convexity\n",
    "\n",
    "- For affine function $f: R^n \\to R^m$, and convex set $S$\n",
    "$$\n",
    "    f(S) = \\{f(x) | X \\in S \\} \\text{ is convex}\n",
    "$$\n",
    "\n",
    "- same goes for inverse images $f^{-1}(S)$."
   ]
  },
  {
   "cell_type": "markdown",
   "metadata": {
    "slideshow": {
     "slide_type": "slide"
    }
   },
   "source": [
    "# Cones and generalised inequalities\n",
    "\n",
    "### Intuition\n",
    "- In some cones we might \"order\" the elements by their position with respect to the cone's tip ($0$)\n",
    "- These cones have to be:\n",
    "    - **convex**, **closed**, **solid** and **pointed** (i.e. they can't be subspaces)\n",
    "        - **solid** means including all interior points\n",
    "        - **pointed** means there is a unique (?) base point, based on which all points can have an order. Apparently $R$ is not a pointed one and the origin cannot be a base point since we can choose any points as a base point.\n",
    "    - be **proper** in other words\n",
    "\n",
    "### Generalised inequality with respect to cone $K$\n",
    "- partial ordering:\n",
    "\n",
    "$$\n",
    "    \\begin{aligned}\n",
    "       x &\\preceq_{K} y \\iff y - x \\in K  \\\\\n",
    "       x &\\prec_{K} y \\iff y - x \\in \\mathbf{\\text{int}}\\,K \\\\\n",
    "    \\end{aligned}\n",
    "$$\n",
    "- $\\preceq_{K}$ is called preceeds and $\\succeq_{K}$ is succeeds\n",
    "- **Basically, here we define the set $K$ to be the measurement of positiveness.**\n",
    "\n",
    "### Positive semidefinite cone\n",
    "- now we know why we wrote $X \\succeq 0$ for positive semidefinite definite matrix $X$\n",
    "\n",
    "$$\n",
    "      0 - X \\text{ is not positive definite, so } \\notin S_+^n\n",
    "$$"
   ]
  },
  {
   "cell_type": "markdown",
   "metadata": {
    "slideshow": {
     "slide_type": "subslide"
    }
   },
   "source": [
    "# Partial ordering\n",
    "\n",
    "### Regular inequalities \"$\\geq$\" and \"$\\leq$\"\n",
    "- it's either $x \\leq y$ or $x > 0$\n",
    "\n",
    "### Generalised inequalities\n",
    "- we do not have this implication\n",
    "- most elements are **not comparable** with each other\n",
    "\n",
    "### Example\n",
    "- Take $R_+^n$: the positive orthant of $R^n$\n",
    "    - all $x \\in R_+^n$ have all elements non-negative\n",
    "    - $R_+^n$ is a **proper** cone\n",
    "- For two elements $x, y \\in R_+^n$, if $y -x \\in R_+^n$, we say $x \\preceq y$\n",
    "    - this is element-wise inequality\n",
    "    - let's see what we can and can't compare"
   ]
  },
  {
   "cell_type": "markdown",
   "metadata": {
    "slideshow": {
     "slide_type": "slide"
    }
   },
   "source": [
    "# Separating hyperplanes\n",
    "\n",
    "### This idea will be coming back\n",
    "\n",
    "- Take two nonempty disjoint convex sets $C, D$\n",
    "- There exist $a \\neq 0 \\in R^n$ and $b \\in R$ such that:\n",
    "\n",
    "$$\n",
    "    \\begin{aligned}\n",
    "        a^T x &\\leq b \\quad \\forall_{x \\in C} \\\\\n",
    "        a^T x &\\geq b \\quad \\forall_{x \\in D}\n",
    "    \\end{aligned}\n",
    "$$\n",
    "\n",
    "- The hyperplane $\\{x | a^T x = b \\}$ is called the **separating hyperplane**\n",
    "\n",
    "### Two applications\n",
    "- Theorems of alternatives: determine when a system of linear inequalities has a solution\n",
    "- Finance: no-arbitrage price systems"
   ]
  },
  {
   "cell_type": "markdown",
   "metadata": {
    "slideshow": {
     "slide_type": "subslide"
    }
   },
   "source": [
    "# Two bounded disjoint sets and strict separation\n",
    "\n",
    "<img src=\"fig/separ-hyper.png\">"
   ]
  },
  {
   "cell_type": "markdown",
   "metadata": {
    "slideshow": {
     "slide_type": "subslide"
    }
   },
   "source": [
    "# Supporting hyperplanes\n",
    "\n",
    "- Take set $C \\subset R^n$, not necessarily convex\n",
    "- Take point $x_0$ in the boundary of $C$\n",
    "- If there exists $a \\neq 0$ such that\n",
    "\n",
    "$$\n",
    "    \\forall_{x \\in C} a^T x \\leq a^T x_0\n",
    "$$\n",
    "\n",
    "then the hyperplane $\\{x | a^T x = b \\}$ **supports** $C$ at $x_0$\n",
    "\n",
    "### For convex sets:\n",
    "- always exists for any $x_0$ in the boundary (\"Supporting Hyperplane Theorem)\n",
    "- **It looks like all the tangent lines of a convex set will not cross this set.**\n"
   ]
  },
  {
   "cell_type": "markdown",
   "metadata": {
    "slideshow": {
     "slide_type": "subslide"
    }
   },
   "source": [
    "# Aside: interior and boundary\n",
    "\n",
    "<img src=\"fig/1024px-Interior_illustration.svg.png\" width=\"40%\" height=\"40%\">"
   ]
  },
  {
   "cell_type": "markdown",
   "metadata": {
    "slideshow": {
     "slide_type": "subslide"
    }
   },
   "source": [
    "# Some supporting hyperplanes\n",
    "\n",
    "<img src=\"fig/support-hyper.png\" width=\"70%\" height=\"70%\">"
   ]
  },
  {
   "cell_type": "markdown",
   "metadata": {
    "slideshow": {
     "slide_type": "subslide"
    }
   },
   "source": [
    "# Some supporting hyperplanes\n",
    "\n",
    "<img src=\"fig/support-hyper-2.png\" width=\"70%\" height=\"70%\">"
   ]
  },
  {
   "cell_type": "markdown",
   "metadata": {
    "slideshow": {
     "slide_type": "slide"
    }
   },
   "source": [
    "# Dual cones and dual generalized equalities\n",
    "\n",
    "- Take a cone $K$\n",
    "- Define $$\n",
    "    K^{*} = \\{y | x^T y \\geq 0 \\text{ for all } x \\in K \\}\n",
    "$$\n",
    "    - where $x^T y = 0$ defines $y$ as the orthogonal points to $x$\n",
    "\n",
    "\n",
    "- $K^{*}$ is a **convex cone**: the **dual cone** of $K$\n",
    "    - $K^{*}$ is convex even if $K$ is not\n",
    "        - we will see this a lot with duality relationships\n",
    "\n",
    "<img src=\"fig/convex-dual-cone.png\">"
   ]
  },
  {
   "cell_type": "markdown",
   "metadata": {},
   "source": [
    "# Self-duality\n",
    "\n",
    "- Take a cone $K$\n",
    "\n",
    "- Whenever $K^* = K$, we say that $K$ is *self-dual*\n",
    "\n",
    "# Important self-dual cones\n",
    "- The cone of positive semi-definite matrices $S^n_+$\n",
    "- The second-order cone in $R^{n+1}$"
   ]
  },
  {
   "cell_type": "markdown",
   "metadata": {
    "slideshow": {
     "slide_type": "subslide"
    }
   },
   "source": [
    "# Dual norm\n",
    "\n",
    "### Dual norm\n",
    "- Take a norm $||\\cdot||$\n",
    "- Take a vector $u$ \n",
    "- Define dual norm $|| u ||_{*}$\n",
    "$$\n",
    "    ||u||_{*} = \\sup_x\\{u^T x \\quad | \\quad ||x|| \\leq 1 \\}\n",
    "$$"
   ]
  },
  {
   "cell_type": "markdown",
   "metadata": {
    "slideshow": {
     "slide_type": "subslide"
    }
   },
   "source": [
    "# Dual cones and dual generalised inequalities\n",
    "\n",
    "\n",
    "### Definition\n",
    "- If $K = K^{*}$, we call $K$ **self-dual**\n",
    "    - The positive orthant is self-dual\n",
    "    - The positive semidefinite matrix cone is self-dual\n",
    "\n",
    "###  Characterisation of generalised inequalities\n",
    "- Take $K$ proper, which gives $ K^{*}$ proper\n",
    "- We can characterise generalised inequalities in terms of the relationship between scalar products of\n",
    "    - elements of $K$\n",
    "    - non-negative (generalised) elements of $K^{*}$\n",
    "$$\n",
    "    \\begin{aligned}\n",
    "        x \\preceq_{K} y \\iff \\lambda^T x \\leq \\lambda^T y \\text{ for all } \\lambda \\succeq_{K^{*}} 0 \\\\\n",
    "        x \\prec_{K} y \\iff \\lambda^T x < \\lambda^T y \\text{ for all } \\lambda \\succeq_{K^{*}} 0, \\lambda \\neq 0\n",
    "    \\end{aligned}\n",
    "$$\n",
    "\n",
    "- To work in non-$R^n$ cones (like positive definite matrices etc.) replace $x^T y$ by another appropriate scalar product."
   ]
  },
  {
   "cell_type": "markdown",
   "metadata": {
    "slideshow": {
     "slide_type": "slide"
    }
   },
   "source": [
    "# What did we learn?\n",
    "\n",
    "### Ceci n'est pas un cône\n",
    "<img src=\"fig/road-cone.png\" width=\"30%\" height=\"30%\">"
   ]
  },
  {
   "cell_type": "markdown",
   "metadata": {
    "slideshow": {
     "slide_type": "subslide"
    }
   },
   "source": [
    "# What did we learn?\n",
    "\n",
    "- What sets are convex\n",
    "    - halfspaces, polyhedra\n",
    "    - balls\n",
    "    - cones\n",
    "    - **intersections** of convex sets\n",
    "\n",
    "- How the notion of a cone can generalise the notion of an inequality\n",
    "    - these ideas will allow us to treat really interesting and non-obvious problems!\n",
    "\n",
    "- The existence of **separating** and **supporting** hyperplanes\n",
    "    - these ideas will help us develop the geometric intuition about **duality** in optimisation"
   ]
  }
 ],
 "metadata": {
  "celltoolbar": "Slideshow",
  "kernelspec": {
   "display_name": "Python 3.7",
   "language": "python",
   "name": "datahub"
  },
  "language_info": {
   "codemirror_mode": {
    "name": "ipython",
    "version": 3
   },
   "file_extension": ".py",
   "mimetype": "text/x-python",
   "name": "python",
   "nbconvert_exporter": "python",
   "pygments_lexer": "ipython3",
   "version": "3.7.3"
  }
 },
 "nbformat": 4,
 "nbformat_minor": 2
}
